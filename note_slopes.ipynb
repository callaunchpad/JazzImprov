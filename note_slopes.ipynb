{
 "cells": [
  {
   "cell_type": "code",
   "execution_count": 1,
   "metadata": {
    "collapsed": true
   },
   "outputs": [],
   "source": [
    "import numpy as np\n",
    "import pandas as pd\n",
    "import re, os"
   ]
  },
  {
   "cell_type": "code",
   "execution_count": 12,
   "metadata": {
    "collapsed": true
   },
   "outputs": [],
   "source": [
    "notes = ['C', 'Db', 'D', 'Eb', 'E', 'F', 'Gb', 'G', 'Ab', 'A', 'Bb', 'B']\n",
    "note_to_num = {}\n",
    "for num, note in enumerate(notes):\n",
    "    note_to_num[note] = num\n",
    "num_to_note = dict([[v,k] for k,v in note_to_num.items()])\n",
    "same_note = {'A#':'Bb', 'C#':'Db', 'D#':'Eb', 'F#': 'Gb', 'G#':'Ab'}\n",
    "\n",
    "def split_note(note):\n",
    "    assert re.fullmatch('[A-G](#|b)?[0-7]', note) is not None, 'Note not formatted correctly: %s'%note\n",
    "    return note[:-1], int(note[-1])\n",
    "\n",
    "def shift_note(note, amount):\n",
    "    # note taken in as string, amount is any integer\n",
    "    # probably not needed until actually generating stuff\n",
    "    note, octave = split_note(note)\n",
    "    if note in same_note:\n",
    "        note = same_note[note]\n",
    "    new_num = note_to_num[note] + amount\n",
    "    if new_num > 11:\n",
    "        octave += 1\n",
    "    elif new_num < 0:\n",
    "        octave -= 1\n",
    "    return num_to_note[(new_num) % 12] + str(octave)\n",
    "\n",
    "def note_dist(note1, note2):\n",
    "    # positive if note2 is above note1, 0 if same\n",
    "    note1, octave1 = split_note(note1)\n",
    "    note2, octave2 = split_note(note2)\n",
    "    if note1 in same_note:\n",
    "        note1 = same_note[note1]\n",
    "    if note2 in same_note:\n",
    "        note2 = same_note[note2]\n",
    "    tot = (octave2 - octave1) * 12\n",
    "    tot += note_to_num[note2] - note_to_num[note1]\n",
    "    return tot"
   ]
  },
  {
   "cell_type": "markdown",
   "metadata": {},
   "source": [
    "### Finding Slope Bounds"
   ]
  },
  {
   "cell_type": "code",
   "execution_count": 3,
   "metadata": {
    "collapsed": true
   },
   "outputs": [],
   "source": [
    "def find_slope_bounds(lst):\n",
    "    max_jump, min_jump = 0, 0\n",
    "    for i in range(len(lst) - 1):\n",
    "        max_jump = max(max_jump, note_dist(lst[i], lst[i+1]))\n",
    "        min_jump = min(min_jump, note_dist(lst[i], lst[i+1]))\n",
    "    return str(min_jump) + ' ' + str(max_jump)"
   ]
  },
  {
   "cell_type": "markdown",
   "metadata": {},
   "source": [
    "### Creating the S-Expressions Table"
   ]
  },
  {
   "cell_type": "code",
   "execution_count": 4,
   "metadata": {
    "collapsed": true
   },
   "outputs": [],
   "source": [
    "def categorize_note(note, chord, last_chord):\n",
    "    return np.random.choice(['C', 'H', 'R'])"
   ]
  },
  {
   "cell_type": "code",
   "execution_count": 16,
   "metadata": {},
   "outputs": [],
   "source": [
    "def create_s_exp(notes):\n",
    "    # notes is list of tupes of (note_string, duration)\n",
    "    s = ''\n",
    "    notes_only = []\n",
    "    for note, duration, chord, last_chord in notes:\n",
    "        s += categorize_note(note, chord, last_chord) + '%.3f '%duration\n",
    "        notes_only.append(note)\n",
    "    return find_slope_bounds(notes_only) + ' ' + s"
   ]
  },
  {
   "cell_type": "code",
   "execution_count": 17,
   "metadata": {},
   "outputs": [
    {
     "data": {
      "text/plain": [
       "1"
      ]
     },
     "execution_count": 17,
     "metadata": {},
     "output_type": "execute_result"
    }
   ],
   "source": [
    "s_exp = pd.DataFrame(columns=['id', 'exp', 'song_id', 'song_index'])\n",
    "s_exp = s_exp.set_index(['id'])\n",
    "directory = 'midi_to_csv/' # 'raw_solos/'\n",
    "song_num = 0\n",
    "for filename in os.listdir(directory):\n",
    "    if filename.endswith('Night.csv'):\n",
    "        measure = 0\n",
    "        last_chord = None\n",
    "        curr_s_exp = []\n",
    "        song = pd.read_csv(directory + filename)\n",
    "        for i in range(len(song)):\n",
    "            curr_note = song.iloc[i]\n",
    "            if measure != int(curr_note['start_time']):\n",
    "                s = create_s_exp(curr_s_exp)\n",
    "                row = {'exp': s, 'song_id': song_num, 'song_index': measure}\n",
    "                s_exp = s_exp.append(row, ignore_index=True)\n",
    "                curr_s_exp = []\n",
    "                measure = int(curr_note['start_time'])\n",
    "            curr_s_exp.append((curr_note['note_name'], curr_note['duration'], None, None))#curr_note['chord'], last_chord))\n",
    "            #last_chord = curr_note['chord']\n",
    "        s = create_s_exp(curr_s_exp)\n",
    "        row = {'exp': s, 'song_id': song_num, 'song_index': measure}\n",
    "        s_exp = s_exp.append(row, ignore_index=True)\n",
    "        song_num += 1\n",
    "song_num"
   ]
  },
  {
   "cell_type": "code",
   "execution_count": 20,
   "metadata": {},
   "outputs": [],
   "source": [
    "s_exp.to_csv('test_files/s_exp_test.csv')"
   ]
  }
 ],
 "metadata": {
  "kernelspec": {
   "display_name": "Python 3",
   "language": "python",
   "name": "python3"
  },
  "language_info": {
   "codemirror_mode": {
    "name": "ipython",
    "version": 3
   },
   "file_extension": ".py",
   "mimetype": "text/x-python",
   "name": "python",
   "nbconvert_exporter": "python",
   "pygments_lexer": "ipython3",
   "version": "3.6.2"
  }
 },
 "nbformat": 4,
 "nbformat_minor": 2
}

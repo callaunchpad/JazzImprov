{
 "cells": [
  {
   "cell_type": "code",
   "execution_count": 87,
   "metadata": {
    "collapsed": true
   },
   "outputs": [],
   "source": [
    "import numpy as np\n",
    "import pandas as pd\n",
    "import re, os, random"
   ]
  },
  {
   "cell_type": "code",
   "execution_count": 48,
   "metadata": {
    "collapsed": true
   },
   "outputs": [],
   "source": [
    "notes = ['C', 'Db', 'D', 'Eb', 'E', 'F', 'Gb', 'G', 'Ab', 'A', 'Bb', 'B']\n",
    "note_to_num = {}\n",
    "for num, note in enumerate(notes):\n",
    "    note_to_num[note] = num\n",
    "num_to_note = dict([[v,k] for k,v in note_to_num.items()])\n",
    "same_note = {'A#':'Bb', 'C#':'Db', 'D#':'Eb', 'F#': 'Gb', 'G#':'Ab'}\n",
    "\n",
    "def split_note(note):\n",
    "    assert re.fullmatch('[A-G](#|b)?[0-7]', note) is not None, 'Note not formatted correctly: %s'%note\n",
    "    return note[:-1], int(note[-1])\n",
    "\n",
    "def shift_note(note, amount):\n",
    "    # note taken in as string, amount is any integer\n",
    "    # probably not needed until actually generating stuff\n",
    "    note, octave = split_note(note)\n",
    "    if note in same_note:\n",
    "        note = same_note[note]\n",
    "    new_num = note_to_num[note] + amount\n",
    "    if new_num > 11:\n",
    "        octave += 1\n",
    "    elif new_num < 0:\n",
    "        octave -= 1\n",
    "    return num_to_note[(new_num) % 12] + str(octave)\n",
    "\n",
    "def note_dist(note1, note2):\n",
    "    # positive if note2 is above note1, 0 if same\n",
    "    note1, octave1 = split_note(note1)\n",
    "    note2, octave2 = split_note(note2)\n",
    "    if note1 in same_note:\n",
    "        note1 = same_note[note1]\n",
    "    if note2 in same_note:\n",
    "        note2 = same_note[note2]\n",
    "    tot = (octave2 - octave1) * 12\n",
    "    tot += note_to_num[note2] - note_to_num[note1]\n",
    "    return tot"
   ]
  },
  {
   "cell_type": "markdown",
   "metadata": {},
   "source": [
    "### Finding Slope Bounds"
   ]
  },
  {
   "cell_type": "code",
   "execution_count": 66,
   "metadata": {
    "collapsed": true
   },
   "outputs": [],
   "source": [
    "def find_slope_bounds(lst):\n",
    "    max_jump, min_jump = 0, 0\n",
    "    for i in range(len(lst) - 1):\n",
    "        max_jump = max(max_jump, note_dist(lst[i], lst[i+1]))\n",
    "        min_jump = min(min_jump, note_dist(lst[i], lst[i+1]))\n",
    "    return str(min_jump) + ' ' + str(max_jump)"
   ]
  },
  {
   "cell_type": "markdown",
   "metadata": {},
   "source": [
    "### Average Max Slope"
   ]
  },
  {
   "cell_type": "code",
   "execution_count": 119,
   "metadata": {},
   "outputs": [
    {
     "name": "stdout",
     "output_type": "stream",
     "text": [
      "C4 G4\n",
      "G4 Bb5\n"
     ]
    },
    {
     "data": {
      "text/plain": [
       "7.5"
      ]
     },
     "execution_count": 119,
     "metadata": {},
     "output_type": "execute_result"
    }
   ],
   "source": [
    "def avgmaxslope(exp):\n",
    "    max_asc, max_desc = 0,0\n",
    "    for i in range(len(exp) - 1):\n",
    "        print(exp[i][0], exp[i+1][0])\n",
    "        if note_dist(exp[i][0], exp[i+1][0]) >= 0:\n",
    "            max_asc = max(max_asc, note_dist(exp[i][0], exp[i+1][0]))\n",
    "        if note_dist(exp[i][0], exp[i+1][0]) <= 0:\n",
    "            max_desc = max(max_desc, abs(note_dist(exp[i][0], exp[i+1][0])))\n",
    "    avg = (max_asc + max_desc) / 2\n",
    "    return avg\n",
    "\n",
    "#test = [('C4', 0.5), ('G4', 0.25), ('Bb5', 0.4)]\n",
    "#note_dist('C4', 'G4')\n",
    "#avgmaxslope(test)\n",
    "\n"
   ]
  },
  {
   "cell_type": "markdown",
   "metadata": {},
   "source": [
    "### Selecting Notes"
   ]
  },
  {
   "cell_type": "code",
   "execution_count": 124,
   "metadata": {
    "collapsed": true
   },
   "outputs": [],
   "source": [
    "def select_note(lst, curr, minimum, maximum):\n",
    "    #1: output of the possible notes\n",
    "    #2: current note ('C4')\n",
    "    #3: minimum slope\n",
    "    #4: maximum slope\n",
    "    #output single note from filtered list; else random of unfiltered list\n",
    "    master_lst, lower_octave, equal_octave, higher_octave = [], [], [], []\n",
    "    for key in lst:\n",
    "        lower_octave.append(split_note(key)[0] + str((split_note(key)[1]) - 1))\n",
    "        equal_octave.append(split_note(key)[0] + str(split_note(key)[1]))\n",
    "        higher_octave.append(split_note(key)[0] + str((split_note(key)[1]) + 1))\n",
    "    for value in lower_octave:\n",
    "        if note_dist(value, curr) >= minimum:\n",
    "            master_lst.append(value)\n",
    "    for value in equal_octave:\n",
    "        if note_dist(value, curr) >= minimum:\n",
    "            master_lst.append(value)\n",
    "        if note_dist(value, curr) <= maximum:\n",
    "            master_lst.append(value)\n",
    "    for value in lower_octave:\n",
    "        if note_dist(value, curr) <= maximum:\n",
    "            master_lst.append(value)\n",
    "    if len(master_lst) == 0:\n",
    "        return random.choice(lst)\n",
    "    else:\n",
    "        return random.choice(master_lst)"
   ]
  },
  {
   "cell_type": "code",
   "execution_count": 164,
   "metadata": {},
   "outputs": [
    {
     "data": {
      "text/plain": [
       "'F#3'"
      ]
     },
     "execution_count": 164,
     "metadata": {},
     "output_type": "execute_result"
    }
   ],
   "source": [
    "#TESTS\n",
    "\n",
    "\n",
    "#key = 'C4'\n",
    "#print(split_note(key))\n",
    "#print(split_note(key)[0])\n",
    "#print(split_note(key)[1])\n",
    "#value = (split_note(key)[0] + str((split_note(key)[1]) - 1))\n",
    "#print(value)\n",
    "\n",
    "#select_note(['G3', 'F#3', 'A3', 'A#3'], 'C4', 3, 3)"
   ]
  },
  {
   "cell_type": "markdown",
   "metadata": {},
   "source": [
    "### Determining Consonance"
   ]
  },
  {
   "cell_type": "code",
   "execution_count": 86,
   "metadata": {
    "collapsed": true
   },
   "outputs": [],
   "source": [
    "def consonance(measure): #measure is 1 measure of an s-expression\n",
    "    total = 0.0\n",
    "    i = 0\n",
    "    for note in measure:\n",
    "        if note[0][0] == \"R\":\n",
    "            total += (0.1 * 1/float(note[0][1])) #note[0][1] is duration\n",
    "        if note[0][0] == \"C\":\n",
    "            total += (0.8 * 1/float(note[0][1]))\n",
    "        if note[0][0] == \"L\":\n",
    "            total += (0.4 * 1/float(note[0][1]))\n",
    "        if note[0][0] == \"X\":\n",
    "            total += (0.1 * 1/float(note[0][1]))\n",
    "        if note[0][0] == \"A\":\n",
    "            total += (0.6 * 1/float(note[0][1]))\n",
    "        i += 1\n",
    "    return total #total consonance value for that measure\n",
    "\n",
    "#test = [('C8', 0.5), ('C8', 0.9), ('C8', 0.9)]\n",
    "#print(consonance(test)\n",
    "\n"
   ]
  },
  {
   "cell_type": "markdown",
   "metadata": {},
   "source": [
    "### Creating the S-Expressions Table"
   ]
  },
  {
   "cell_type": "code",
   "execution_count": 4,
   "metadata": {
    "collapsed": true
   },
   "outputs": [],
   "source": [
    "def categorize_note(note, chord, last_chord):\n",
    "    return np.random.choice(['C', 'H', 'R'])"
   ]
  },
  {
   "cell_type": "code",
   "execution_count": 16,
   "metadata": {
    "collapsed": true
   },
   "outputs": [],
   "source": [
    "def create_s_exp(notes):\n",
    "    # notes is list of tupes of (note_string, duration)\n",
    "    s = ''\n",
    "    notes_only = []\n",
    "    for note, duration, chord, last_chord in notes:\n",
    "        s += categorize_note(note, chord, last_chord) + '%.3f '%duration\n",
    "        notes_only.append(note)\n",
    "    return find_slope_bounds(notes_only) + ' ' + s"
   ]
  },
  {
   "cell_type": "code",
   "execution_count": 17,
   "metadata": {},
   "outputs": [
    {
     "data": {
      "text/plain": [
       "1"
      ]
     },
     "execution_count": 17,
     "metadata": {},
     "output_type": "execute_result"
    }
   ],
   "source": [
    "s_exp = pd.DataFrame(columns=['id', 'exp', 'song_id', 'song_index'])\n",
    "s_exp = s_exp.set_index(['id'])\n",
    "directory = 'midi_to_csv/' # 'raw_solos/'\n",
    "song_num = 0\n",
    "for filename in os.listdir(directory):\n",
    "    if filename.endswith('Night.csv'):\n",
    "        measure = 0\n",
    "        last_chord = None\n",
    "        curr_s_exp = []\n",
    "        song = pd.read_csv(directory + filename)\n",
    "        for i in range(len(song)):\n",
    "            curr_note = song.iloc[i]\n",
    "            if measure != int(curr_note['start_time']):\n",
    "                s = create_s_exp(curr_s_exp)\n",
    "                row = {'exp': s, 'song_id': song_num, 'song_index': measure}\n",
    "                s_exp = s_exp.append(row, ignore_index=True)\n",
    "                curr_s_exp = []\n",
    "                measure = int(curr_note['start_time'])\n",
    "            curr_s_exp.append((curr_note['note_name'], curr_note['duration'], None, None))#curr_note['chord'], last_chord))\n",
    "            #last_chord = curr_note['chord']\n",
    "        s = create_s_exp(curr_s_exp)\n",
    "        row = {'exp': s, 'song_id': song_num, 'song_index': measure}\n",
    "        s_exp = s_exp.append(row, ignore_index=True)\n",
    "        song_num += 1\n",
    "song_num"
   ]
  },
  {
   "cell_type": "code",
   "execution_count": 20,
   "metadata": {
    "collapsed": true
   },
   "outputs": [],
   "source": [
    "s_exp.to_csv('test_files/s_exp_test.csv')"
   ]
  }
 ],
 "metadata": {
  "kernelspec": {
   "display_name": "Python 3",
   "language": "python",
   "name": "python3"
  },
  "language_info": {
   "codemirror_mode": {
    "name": "ipython",
    "version": 3
   },
   "file_extension": ".py",
   "mimetype": "text/x-python",
   "name": "python",
   "nbconvert_exporter": "python",
   "pygments_lexer": "ipython3",
   "version": "3.6.1"
  }
 },
 "nbformat": 4,
 "nbformat_minor": 2
}

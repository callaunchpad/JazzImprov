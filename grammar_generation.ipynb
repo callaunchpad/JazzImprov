{
 "cells": [
  {
   "cell_type": "code",
   "execution_count": 2,
   "metadata": {
    "collapsed": true
   },
   "outputs": [],
   "source": [
    "import numpy as np\n",
    "import re"
   ]
  },
  {
   "cell_type": "code",
   "execution_count": 3,
   "metadata": {
    "collapsed": true
   },
   "outputs": [],
   "source": [
    "chord_dictionary = {\n",
    "    \"major\": {\"C\": [0, 4, 7], \"L\": [2, 4, 6, 11]},\n",
    "    \"minor\": {\"C\": [0, 4, 8], \"L\": [2, 3, 5, 7, 10]},\n",
    "    \"augmented\": {\"C\": [0, 4, 8], \"L\": []},\n",
    "    \"diminished\": {\"C\": [0, 3, 6] ,  \"L\": []},\n",
    "    \"half-diminished\": {\"C\": [0, 3, 6, 10], \"L\": []},\n",
    "    \"dominant-seventh\": {\"C\": [0, 4, 7, 10], \"L\": [] }\n",
    "}\n"
   ]
  },
  {
   "cell_type": "code",
   "execution_count": 4,
   "metadata": {
    "collapsed": true
   },
   "outputs": [],
   "source": [
    "notes = ['Bb', 'B', 'C', 'Db', 'D', 'Eb', 'E', 'F', 'Gb', 'G', 'Ab', 'A']\n",
    "note_to_num = {}\n",
    "for num, note in enumerate(notes):\n",
    "    note_to_num[note] = num\n",
    "num_to_note = dict([[v,k] for k,v in note_to_num.items()])\n",
    "same_note = {'A#':'Bb', 'C#':'Db', 'D#':'Eb', 'F#': 'Gb', 'G#':'Ab'}"
   ]
  },
  {
   "cell_type": "markdown",
   "metadata": {},
   "source": [
    "A note (in its full representation) is a capital letter from A through G, an optional '#' or 'b' to denote sharp or flat notes, and an octave. "
   ]
  },
  {
   "cell_type": "code",
   "execution_count": 5,
   "metadata": {
    "collapsed": true
   },
   "outputs": [],
   "source": [
    "#some basic functionality for working with note strings\n",
    "\n",
    "#splits note into its components\n",
    "#also checks if the note is valid\n",
    "def split_note(note):\n",
    "    assert re.fullmatch('[A-G](#|b)?[0-7]', note) is not None, 'Note not formatted correctly.'\n",
    "    return note[:-1], int(note[-1])\n",
    "\n",
    "def shift_note(note, amount):\n",
    "    # note taken in as string, amount is any integer\n",
    "    note, octave = split_note(note)\n",
    "    if note in same_note:\n",
    "        note = same_note[note]\n",
    "    new_num = note_to_num[note] + amount\n",
    "    if new_num > 11:\n",
    "        octave += 1\n",
    "    elif new_num < 0:\n",
    "        octave -= 1\n",
    "    return num_to_note[(new_num) % 12] + str(octave)\n",
    "\n",
    "#the chord not chord. it is root note. Thanks\n",
    "def note_dist(noteorchord1, note2, chord=False):\n",
    "    #positive if note2 is above noteorchord1, 0 if same\n",
    "    tot = 0\n",
    "    note2, octave2 = split_note(note2)\n",
    "    if note2 in same_note:\n",
    "        note2 = same_note[note]\n",
    "    if not chord:\n",
    "        noteorchord1, octave1 = split_note(noteorchord1)\n",
    "        if noteorchord1 in same_note:\n",
    "            noteorchord1 = same_note[note]\n",
    "        tot += (octave2 - octave1) * 12\n",
    "    tot += note_to_num[note2] - note_to_num[noteorchord1]\n",
    "    return tot\n",
    "\n",
    "# modifying this\n",
    "def note_categorize(note, chord, nextchord):\n",
    "    split_n = split_note(note)[0]\n",
    "    if split_n == \"R\":\n",
    "        return R\n",
    "    if chord == nextchord:\n",
    "        if split_n in chord['chord']:\n",
    "            return C\n",
    "        elif split_n in chord['color']:\n",
    "            return L\n",
    "        else:\n",
    "            return X\n",
    "    #check split_n[0] and see if it exists in its corresponding chord. \n",
    "    else:\n",
    "        if split_n in chord['chord']:\n",
    "            return C\n",
    "        elif split_n in chord['color']:\n",
    "            return L\n",
    "        else:\n",
    "            return A\n",
    "        \n",
    "def find_chord_type(chord):\n",
    "    if \"m7b5\" in chord:\n",
    "        return \"half-diminished\"\n",
    "    elif \"j7\" in chord:\n",
    "        return \"dominant-seventh\"\n",
    "    elif \"o\" in chord:\n",
    "        return \"diminished\"\n",
    "    elif \"m\" in chord: \n",
    "        return \"minor\"\n",
    "    else:\n",
    "        return \"major\""
   ]
  },
  {
   "cell_type": "code",
   "execution_count": 6,
   "metadata": {
    "collapsed": true
   },
   "outputs": [],
   "source": [
    "def note_category(note, chord, nextchord):\n",
    "    root = chord[0]\n",
    "    chord_type = find_chord_type(chord)\n",
    "    dist = note_dist(root, note, True)\n",
    "    print(dist)\n",
    "    for chord_type, interval_list in chord_dictionary[chord_type].items():\n",
    "        if dist in interval_list:\n",
    "            return chord_type\n",
    "    if chord == nextchord:\n",
    "        return \"X\"\n",
    "    else:\n",
    "        return \"A\"\n",
    "    "
   ]
  },
  {
   "cell_type": "code",
   "execution_count": 13,
   "metadata": {},
   "outputs": [
    {
     "name": "stdout",
     "output_type": "stream",
     "text": [
      "2\n",
      "L\n"
     ]
    }
   ],
   "source": [
    "#note_dist(\"C\", \"Eb5\", True)\n",
    "#note_category(\"C7\", \"Am7b5\", \"Am7b5\")\n",
    "print(note_category(\"D3\", \"C\", \"C\"))"
   ]
  },
  {
   "cell_type": "code",
   "execution_count": null,
   "metadata": {
    "collapsed": true
   },
   "outputs": [],
   "source": []
  },
  {
   "cell_type": "code",
   "execution_count": null,
   "metadata": {
    "collapsed": true
   },
   "outputs": [],
   "source": []
  }
 ],
 "metadata": {
  "kernelspec": {
   "display_name": "Python 3",
   "language": "python",
   "name": "python3"
  },
  "language_info": {
   "codemirror_mode": {
    "name": "ipython",
    "version": 3
   },
   "file_extension": ".py",
   "mimetype": "text/x-python",
   "name": "python",
   "nbconvert_exporter": "python",
   "pygments_lexer": "ipython3",
   "version": "3.6.1"
  }
 },
 "nbformat": 4,
 "nbformat_minor": 2
}

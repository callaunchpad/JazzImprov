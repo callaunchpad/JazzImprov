{
 "cells": [
  {
   "cell_type": "code",
   "execution_count": 2,
   "metadata": {},
   "outputs": [
    {
     "name": "stderr",
     "output_type": "stream",
     "text": [
      "C:\\ProgramData\\Anaconda3\\lib\\site-packages\\h5py\\__init__.py:34: FutureWarning: Conversion of the second argument of issubdtype from `float` to `np.floating` is deprecated. In future, it will be treated as `np.float64 == np.dtype(float).type`.\n",
      "  from ._conv import register_converters as _register_converters\n"
     ]
    }
   ],
   "source": [
    "import tensorflow\n",
    "import pandas\n",
    "import mido"
   ]
  },
  {
   "cell_type": "code",
   "execution_count": 47,
   "metadata": {},
   "outputs": [],
   "source": [
    "mid = mido.MidiFile('WebsterNight.mid')\n",
    "\n",
    "def notename(note_num):\n",
    "    octave = (note_num // 12)\n",
    "    notes = ['C','C#','D','D#','E','F','F#','G','G#','A','A#','B']\n",
    "    note = notes[note_num % 12]\n",
    "    return note + str(octave)\n",
    "\n",
    "def ticks_to_measure(midi, ticks): \n",
    "    #print(str(midi.ticks_per_beat))\n",
    "    measure_time = midi.ticks_per_beat * 4 \n",
    "    return ticks / measure_time \n",
    "\n",
    "def dict_to_csv(dict_list, file_name): \n",
    "    l = [] \n",
    "    for dct in dict_list: \n",
    "        df = pandas.DataFrame(dct, [0])\n",
    "        l.append(df)\n",
    "    tmp = pandas.concat(l)\n",
    "    tmp = tmp.reindex(columns = [\"note_name\", \"start_time\", \"duration\", \"velocity\"])\n",
    "    tmp.to_csv(file_name + '.csv', index = False)\n",
    "            \n",
    "# Eventually this will all be OOP!!!\n",
    "# Running variables (these will keep track of things)\n",
    "def midi_to_csv(midi):\n",
    "    notes = []\n",
    "    curr_note = {} \n",
    "    curr_time = 0 \n",
    "    for i, track in enumerate(mid.tracks):\n",
    "        # print('Track {}: {}'.format(i, track.name))\n",
    "        for msg in track:\n",
    "            if msg.type == 'note_on': \n",
    "                curr_note['note_name'] = notename(msg.note)\n",
    "                curr_note['velocity'] = msg.velocity \n",
    "                curr_time += msg.time \n",
    "                curr_note['start_time'] = ticks_to_measure(midi, curr_time)\n",
    "            if msg.type == 'note_off':\n",
    "                curr_note['duration'] = ticks_to_measure(midi, msg.time)\n",
    "                curr_time += msg.time\n",
    "                notes.append(curr_note)\n",
    "                curr_note = {}    \n",
    "    file_name = midi.filename[:-4]\n",
    "    #print(notes)\n",
    "    dict_to_csv(notes, file_name)\n",
    "\n",
    "midi_to_csv(mid)\n",
    "                "
   ]
  }
 ],
 "metadata": {
  "kernelspec": {
   "display_name": "Python 3",
   "language": "python",
   "name": "python3"
  },
  "language_info": {
   "codemirror_mode": {
    "name": "ipython",
    "version": 3
   },
   "file_extension": ".py",
   "mimetype": "text/x-python",
   "name": "python",
   "nbconvert_exporter": "python",
   "pygments_lexer": "ipython3",
   "version": "3.6.1"
  }
 },
 "nbformat": 4,
 "nbformat_minor": 2
}

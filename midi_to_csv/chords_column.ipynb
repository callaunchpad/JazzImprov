{
 "cells": [
  {
   "cell_type": "code",
   "execution_count": 1,
   "metadata": {
    "collapsed": true
   },
   "outputs": [],
   "source": [
    "import pandas as pd\n",
    "import re\n",
    "import numpy as np"
   ]
  },
  {
   "cell_type": "code",
   "execution_count": 2,
   "metadata": {
    "collapsed": true
   },
   "outputs": [],
   "source": [
    "ben_csv = pd.read_csv('WebsterNight.csv')\n",
    "ben_csv['start_time'] = ben_csv['start_time'] - 5.9375"
   ]
  },
  {
   "cell_type": "code",
   "execution_count": 3,
   "metadata": {},
   "outputs": [
    {
     "data": {
      "text/plain": [
       "'A1: ||Em7b5   |A7   |Dj7   |Dj7   |Em7b5   |A7   |Dj7   |Dj7   ||\\nB1: ||G#m7b5   |G-7   |F#-7   |Fo   |E-7   |A7   |Dj7   |Dj7   ||\\nA2: ||Em7b5   |A7   |Dj7   |Dj7   |Em7b5   |A7   |Dj7   |Dj7   ||\\nB2: ||G#m7b5   |G-7   |F#-7   |Fo   |E-7   |A7   |Dj7   |C7   ||\\nC1: ||Fj7   |Fj7   |Dj7   |Dj7   |Fj7   |Fj7   |Dj7   |Dj7   ||\\nB3: ||G#m7b5   |G-7   |F#-7   |Fo   |E-7   |A7   |D6   |E7 A7 ||'"
      ]
     },
     "execution_count": 3,
     "metadata": {},
     "output_type": "execute_result"
    }
   ],
   "source": [
    "ben_chords_raw = 'A1: ||Em7b5   |A7   |Dj7   |Dj7   |Em7b5   |A7   |Dj7   |Dj7   ||\\n\\\n",
    "B1: ||G#m7b5   |G-7   |F#-7   |Fo   |E-7   |A7   |Dj7   |Dj7   ||\\n\\\n",
    "A2: ||Em7b5   |A7   |Dj7   |Dj7   |Em7b5   |A7   |Dj7   |Dj7   ||\\n\\\n",
    "B2: ||G#m7b5   |G-7   |F#-7   |Fo   |E-7   |A7   |Dj7   |C7   ||\\n\\\n",
    "C1: ||Fj7   |Fj7   |Dj7   |Dj7   |Fj7   |Fj7   |Dj7   |Dj7   ||\\n\\\n",
    "B3: ||G#m7b5   |G-7   |F#-7   |Fo   |E-7   |A7   |D6   |E7 A7 ||'\n",
    "ben_chords_raw"
   ]
  },
  {
   "cell_type": "code",
   "execution_count": 40,
   "metadata": {},
   "outputs": [
    {
     "data": {
      "text/plain": [
       "[['Dj7'],\n",
       " ['Dj7'],\n",
       " ['G#m7b5'],\n",
       " ['G-7'],\n",
       " ['F#-7'],\n",
       " ['Fo'],\n",
       " ['E-7'],\n",
       " ['A7'],\n",
       " ['D6'],\n",
       " ['E7', 'A7']]"
      ]
     },
     "execution_count": 40,
     "metadata": {},
     "output_type": "execute_result"
    }
   ],
   "source": [
    "def process_raw_chords(chords_raw):\n",
    "    chunks = chords_raw.split('||')[1::2]\n",
    "    all_chords = []\n",
    "    for chunk in chunks:\n",
    "        all_chords += re.split(r'\\s*\\|', chunk)\n",
    "    all_chords = [c.rstrip().split(' ') for c in all_chords]\n",
    "    return all_chords\n",
    "\n",
    "ben_chords = process_raw_chords(ben_chords_raw)\n",
    "assert len(ben_chords) == 48\n",
    "ben_chords[:10]\n",
    "ben_chords[-10:]"
   ]
  },
  {
   "cell_type": "code",
   "execution_count": 35,
   "metadata": {},
   "outputs": [],
   "source": [
    "# measure_to_chord = lambda st: ben_chords[int(st) % len(ben_chords)][0]\n",
    "def measure_to_chord(start_time, all_chords=ben_chords):\n",
    "    chords = all_chords[int(start_time) % len(ben_chords)]\n",
    "    return chords[int((start_time % 1) / (1.0 / len(chords)))]\n",
    "ben_csv['chord'] = ben_csv['start_time'].apply(measure_to_chord)"
   ]
  },
  {
   "cell_type": "code",
   "execution_count": 45,
   "metadata": {},
   "outputs": [
    {
     "data": {
      "text/html": [
       "<div>\n",
       "<style>\n",
       "    .dataframe thead tr:only-child th {\n",
       "        text-align: right;\n",
       "    }\n",
       "\n",
       "    .dataframe thead th {\n",
       "        text-align: left;\n",
       "    }\n",
       "\n",
       "    .dataframe tbody tr th {\n",
       "        vertical-align: top;\n",
       "    }\n",
       "</style>\n",
       "<table border=\"1\" class=\"dataframe\">\n",
       "  <thead>\n",
       "    <tr style=\"text-align: right;\">\n",
       "      <th></th>\n",
       "      <th>note_name</th>\n",
       "      <th>start_time</th>\n",
       "      <th>duration</th>\n",
       "      <th>velocity</th>\n",
       "      <th>chord</th>\n",
       "    </tr>\n",
       "  </thead>\n",
       "  <tbody>\n",
       "    <tr>\n",
       "      <th>0</th>\n",
       "      <td>F4</td>\n",
       "      <td>0.125000</td>\n",
       "      <td>0.154948</td>\n",
       "      <td>94</td>\n",
       "      <td>Em7b5</td>\n",
       "    </tr>\n",
       "    <tr>\n",
       "      <th>1</th>\n",
       "      <td>A4</td>\n",
       "      <td>0.290365</td>\n",
       "      <td>0.725260</td>\n",
       "      <td>95</td>\n",
       "      <td>Em7b5</td>\n",
       "    </tr>\n",
       "    <tr>\n",
       "      <th>2</th>\n",
       "      <td>B4</td>\n",
       "      <td>1.678385</td>\n",
       "      <td>0.339844</td>\n",
       "      <td>96</td>\n",
       "      <td>A7</td>\n",
       "    </tr>\n",
       "    <tr>\n",
       "      <th>3</th>\n",
       "      <td>C#5</td>\n",
       "      <td>2.036458</td>\n",
       "      <td>0.174479</td>\n",
       "      <td>115</td>\n",
       "      <td>Dj7</td>\n",
       "    </tr>\n",
       "    <tr>\n",
       "      <th>4</th>\n",
       "      <td>B4</td>\n",
       "      <td>2.255208</td>\n",
       "      <td>0.164062</td>\n",
       "      <td>92</td>\n",
       "      <td>Dj7</td>\n",
       "    </tr>\n",
       "  </tbody>\n",
       "</table>\n",
       "</div>"
      ],
      "text/plain": [
       "  note_name  start_time  duration  velocity  chord\n",
       "0        F4    0.125000  0.154948        94  Em7b5\n",
       "1        A4    0.290365  0.725260        95  Em7b5\n",
       "2        B4    1.678385  0.339844        96     A7\n",
       "3       C#5    2.036458  0.174479       115    Dj7\n",
       "4        B4    2.255208  0.164062        92    Dj7"
      ]
     },
     "execution_count": 45,
     "metadata": {},
     "output_type": "execute_result"
    }
   ],
   "source": [
    "ben_csv.head()"
   ]
  }
 ],
 "metadata": {
  "kernelspec": {
   "display_name": "Python 3",
   "language": "python",
   "name": "python3"
  },
  "language_info": {
   "codemirror_mode": {
    "name": "ipython",
    "version": 3
   },
   "file_extension": ".py",
   "mimetype": "text/x-python",
   "name": "python",
   "nbconvert_exporter": "python",
   "pygments_lexer": "ipython3",
   "version": "3.6.2"
  }
 },
 "nbformat": 4,
 "nbformat_minor": 2
}

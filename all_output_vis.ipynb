{
 "cells": [
  {
   "cell_type": "code",
   "execution_count": 1,
   "metadata": {
    "collapsed": true
   },
   "outputs": [],
   "source": [
    "from sklearn.cluster import KMeans\n",
    "from sklearn import preprocessing\n",
    "import numpy as np\n",
    "import pandas as pd\n",
    "import random, re"
   ]
  },
  {
   "cell_type": "code",
   "execution_count": 2,
   "metadata": {
    "collapsed": true
   },
   "outputs": [],
   "source": [
    "%matplotlib inline\n",
    "import matplotlib.pyplot as plt"
   ]
  },
  {
   "cell_type": "code",
   "execution_count": 10,
   "metadata": {
    "collapsed": true
   },
   "outputs": [],
   "source": [
    "from functools import reduce"
   ]
  },
  {
   "cell_type": "code",
   "execution_count": 11,
   "metadata": {
    "collapsed": true
   },
   "outputs": [],
   "source": [
    "y1_path = \"generated_solos/12_bar_simple.csv\"\n",
    "y2_path = \"generated_solos/Garrett_Generated.csv\"\n",
    "y3_path = \"generated_solos/Carter_Generated.csv\""
   ]
  },
  {
   "cell_type": "code",
   "execution_count": 12,
   "metadata": {},
   "outputs": [],
   "source": [
    "y1 = pd.read_csv(y1_path)\n",
    "y2 = pd.read_csv(y2_path)\n",
    "y3 = pd.read_csv(y3_path)"
   ]
  },
  {
   "cell_type": "markdown",
   "metadata": {},
   "source": [
    "## Note Distribution"
   ]
  },
  {
   "cell_type": "code",
   "execution_count": 13,
   "metadata": {},
   "outputs": [],
   "source": [
    "y1_name_prop = y1[\"note_name\"].value_counts()/sum(y1[\"note_name\"].value_counts())\n",
    "y2_name_prop = y2[\"note_name\"].value_counts()/sum(y2[\"note_name\"].value_counts())\n",
    "y3_name_prop = y3[\"note_name\"].value_counts()/sum(y3[\"note_name\"].value_counts())"
   ]
  },
  {
   "cell_type": "code",
   "execution_count": 20,
   "metadata": {},
   "outputs": [
    {
     "data": {
      "text/plain": [
       "<matplotlib.text.Text at 0x1154087f0>"
      ]
     },
     "execution_count": 20,
     "metadata": {},
     "output_type": "execute_result"
    },
    {
     "data": {
      "image/png": "[encoded data removed]",
      "text/plain": [
       "<matplotlib.figure.Figure at 0x115054748>"
      ]
     },
     "metadata": {},
     "output_type": "display_data"
    }
   ],
   "source": [
    "y1_name_df = pd.DataFrame(y1_name_prop).reset_index()\n",
    "y2_name_df = pd.DataFrame(y2_name_prop).reset_index()\n",
    "y3_name_df = pd.DataFrame(y3_name_prop).reset_index()\n",
    "dfs = [y1_name_df, y2_name_df, y3_name_df]\n",
    "df_final = reduce(lambda left, right: pd.merge(left, right, on='index', how = 'outer'), dfs)\n",
    "df_final.fillna(0)\n",
    "df_final.columns = [\"note_name\", \"Night and Day\",\"Brother Hubbard\", \"Just Friends\"]\n",
    "note_plot = df_final.plot.bar(x = \"note_name\")\n",
    "note_plot.set_xlabel(\"Note\")\n",
    "note_plot.set_ylabel(\"Frequency\")"
   ]
  },
  {
   "cell_type": "markdown",
   "metadata": {},
   "source": [
    "## Duration Distribution"
   ]
  },
  {
   "cell_type": "code",
   "execution_count": 22,
   "metadata": {},
   "outputs": [
    {
     "data": {
      "image/png": "[encoded data removed]",
      "text/plain": [
       "<matplotlib.figure.Figure at 0x11599cac8>"
      ]
     },
     "metadata": {},
     "output_type": "display_data"
    }
   ],
   "source": [
    "y1_dur = y1[\"duration\"]\n",
    "y2_dur = y2[\"duration\"]\n",
    "y3_dur = y3[\"duration\"]\n",
    "\n",
    "plt.hist(y1_dur, normed = True, alpha = 0.5, label = 'Night and Day') #, bins, alpha=0.5, label='x')\n",
    "plt.hist(y2_dur, normed = True, alpha = 0.5, label = 'Brother Hubbard') #, bins, alpha=0.5, label='y')\n",
    "plt.hist(y3_dur, normed = True, alpha = 0.5, label = 'Just Friends')\n",
    "plt.legend(loc='upper right')\n",
    "plt.xlabel(\"Duration (Fraction of a Measure)\")\n",
    "plt.ylabel(\"Frequency (Normalized)\")\n",
    "plt.show()"
   ]
  },
  {
   "cell_type": "code",
   "execution_count": null,
   "metadata": {
    "collapsed": true
   },
   "outputs": [],
   "source": []
  }
 ],
 "metadata": {
  "kernelspec": {
   "display_name": "Python 3",
   "language": "python",
   "name": "python3"
  },
  "language_info": {
   "codemirror_mode": {
    "name": "ipython",
    "version": 3
   },
   "file_extension": ".py",
   "mimetype": "text/x-python",
   "name": "python",
   "nbconvert_exporter": "python",
   "pygments_lexer": "ipython3",
   "version": "3.6.1"
  }
 },
 "nbformat": 4,
 "nbformat_minor": 2
}

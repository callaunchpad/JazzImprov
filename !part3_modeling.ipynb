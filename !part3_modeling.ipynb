{
 "cells": [
  {
   "cell_type": "code",
   "execution_count": 1,
   "metadata": {
    "collapsed": true
   },
   "outputs": [],
   "source": [
    "from sklearn.cluster import KMeans\n",
    "import numpy as np\n",
    "import pandas as pd\n",
    "import random"
   ]
  },
  {
   "cell_type": "markdown",
   "metadata": {},
   "source": [
    "# Part 3: Clustering, Modeling, and Solo Generation\n",
    "## Retrieving S-expressions"
   ]
  },
  {
   "cell_type": "code",
   "execution_count": null,
   "metadata": {
    "collapsed": true
   },
   "outputs": [],
   "source": [
    "labels_path = 'test_files/s_exp_test.csv'\n",
    "features_path = 'test_files/s_exp_features_test.csv'"
   ]
  },
  {
   "cell_type": "code",
   "execution_count": null,
   "metadata": {
    "collapsed": true
   },
   "outputs": [],
   "source": [
    "s_exp_labels = pd.read_csv(labels_path, index_col=0)\n",
    "s_exp_labels.head()"
   ]
  },
  {
   "cell_type": "code",
   "execution_count": null,
   "metadata": {
    "collapsed": true
   },
   "outputs": [],
   "source": [
    "s_exp_features = pd.read_csv(features_path, index_col = 0)\n",
    "s_exp_features.head()"
   ]
  },
  {
   "cell_type": "markdown",
   "metadata": {},
   "source": [
    "## K-Means\n",
    "### Raw Clustering"
   ]
  },
  {
   "cell_type": "code",
   "execution_count": null,
   "metadata": {
    "collapsed": true
   },
   "outputs": [],
   "source": [
    "k_size = int(len(s_exp_features) / 4) #k_size is arbitrarily set, equal to the number of clusters\n",
    "print(k_size)\n",
    "kmeans = KMeans(n_clusters=k_size).fit(s_exp_features)"
   ]
  },
  {
   "cell_type": "code",
   "execution_count": null,
   "metadata": {
    "collapsed": true
   },
   "outputs": [],
   "source": [
    "kmeans.labels_"
   ]
  },
  {
   "cell_type": "markdown",
   "metadata": {},
   "source": [
    "### Creating Node Objects"
   ]
  },
  {
   "cell_type": "code",
   "execution_count": null,
   "metadata": {
    "collapsed": true
   },
   "outputs": [],
   "source": [
    "class Node:\n",
    "    def __init__(self, node_num):\n",
    "        self.node_num = node_num\n",
    "        self.s_exp = [] # list of s-exp-ids\n",
    "        self.cpt = {} # maps from node_num to conditional probability\n",
    "    \n",
    "    def add_exp(self, s):\n",
    "        self.s_exp.append(s)"
   ]
  },
  {
   "cell_type": "code",
   "execution_count": null,
   "metadata": {
    "collapsed": true
   },
   "outputs": [],
   "source": [
    "node_objects = [Node(i) for i in range(k_size)] #list of nodes for the Markov chain\n",
    "    \n",
    "for i, label in enumerate(kmeans.labels_): #iterating through all the data points\n",
    "    cluster_num = kmeans.labels_[i] #access the cluster num each data point corresponds to\n",
    "    node_objects[label].add_exp(i)"
   ]
  },
  {
   "cell_type": "markdown",
   "metadata": {},
   "source": [
    "## Markov Chaining\n",
    "### Generating CPTs"
   ]
  },
  {
   "cell_type": "code",
   "execution_count": null,
   "metadata": {
    "collapsed": true
   },
   "outputs": [],
   "source": [
    "for outer_node in node_objects:\n",
    "    outer_node_count = 0\n",
    "    for inner_node in node_objects:\n",
    "        outer_node.cpt[inner_node.node_num] = 0.0\n",
    "        for s_exp_outer in outer_node.s_exp:\n",
    "            for s_exp_inner in inner_node.s_exp:\n",
    "                if s_exp_labels.loc[s_exp_outer, 'song_id'] == s_exp_labels.loc[s_exp_inner, 'song_id']:\n",
    "                    if s_exp_labels.loc[s_exp_inner, 'song_index'] - s_exp_labels.loc[s_exp_outer, 'song_index'] == 1:\n",
    "                        outer_node_count += 1\n",
    "                        outer_node.cpt[inner_node.node_num] += 1\n",
    "    #creates the probability of going to the next node, not s-exp\n",
    "    if outer_node_count:\n",
    "        outer_node.cpt = {k: (v / outer_node_count) for k, v in outer_node.cpt.items()}"
   ]
  },
  {
   "cell_type": "markdown",
   "metadata": {},
   "source": [
    "### Generating a Probabilistic Sequence of S-expressions"
   ]
  },
  {
   "cell_type": "code",
   "execution_count": null,
   "metadata": {
    "collapsed": true
   },
   "outputs": [],
   "source": [
    "def weighted_random_by_dct(dct):\n",
    "    rand_val = random.random() #random value between 0 and 1\n",
    "    total = 0\n",
    "    for k, v in dct.items():\n",
    "        total += v\n",
    "        if rand_val <= total: #if running total exceeds probability, that's what you want\n",
    "            return k"
   ]
  },
  {
   "cell_type": "code",
   "execution_count": null,
   "metadata": {
    "collapsed": true
   },
   "outputs": [],
   "source": [
    "def sequence_s_expressions(n): #n is length of \n",
    "    s_exp_ids = [] #create empty list\n",
    "    start = int(random.uniform(0, len(node_objects))) #random start node\n",
    "    next_node = node_objects[start] #get that node\n",
    "    for i in range(n):\n",
    "        next_node_num = weighted_random_by_dct(next_node.cpt) #get the next node based on the current node's cpt\n",
    "        next_node = node_objects[next_node_num] #set the next node variable to that node\n",
    "        next_s_exp_id = random.choice(next_node.s_exp) #get a random s-expression in that node \n",
    "        s_exp_ids += [next_s_exp_id] #store id in the list\n",
    "    return s_exp_ids"
   ]
  },
  {
   "cell_type": "markdown",
   "metadata": {},
   "source": [
    "## Producing Notes\n",
    "### Selecting Notes from S-expressions"
   ]
  },
  {
   "cell_type": "code",
   "execution_count": null,
   "metadata": {
    "collapsed": true
   },
   "outputs": [],
   "source": [
    "# dummy placeholder functions\n",
    "possible_notes = lambda a, b : ['G']\n",
    "select_note = lambda a, b, c, d: 'C'"
   ]
  },
  {
   "cell_type": "markdown",
   "metadata": {},
   "source": [
    "### Putting it all together"
   ]
  },
  {
   "cell_type": "code",
   "execution_count": null,
   "metadata": {
    "collapsed": true
   },
   "outputs": [],
   "source": [
    "def produce_notes(num_of_measures, list_of_chords): #length of chords list = num of measures\n",
    "    notes_df = pd.DataFrame(columns=[\"note_name\", \"start_time\", \"duration\"])\n",
    "    s_exp_ids = sequence_s_expressions(num_of_measures)\n",
    "    curr_note = \"Bb4\" #figure out how to start the curr_note initially\n",
    "    row = 0\n",
    "    for i in range(num_of_measures): #i refers to measure number\n",
    "        s_exp = s_exp_labels.loc[s_exp_ids[i], 'exp'] #ith s-exp, which is a string\n",
    "        split_list = s_exp.split(' ')\n",
    "        min_slope, max_slope = split_list[0], split_list[1]\n",
    "        for term in split_list[2:-1]:\n",
    "            elements = term.split(\"|\")\n",
    "            category, start, duration = elements[0], elements[1], elements[2]\n",
    "            poss_notes_list = possible_notes(list_of_chords[i], category)\n",
    "            selected_note = select_note(poss_notes_list, curr_note, min_slope, max_slope)\n",
    "            new_row = {'note_name': selected_note, 'start_time': float(start) + i, 'duration': duration}\n",
    "            notes_df = notes_df.append(new_row, ignore_index = True)\n",
    "            row += 1\n",
    "            curr_note = selected_note\n",
    "    return notes_df"
   ]
  },
  {
   "cell_type": "code",
   "execution_count": null,
   "metadata": {
    "collapsed": true
   },
   "outputs": [],
   "source": [
    "notes_df = produce_notes(2, ['Bb', 'A'])\n",
    "notes_df"
   ]
  }
 ],
 "metadata": {
  "kernelspec": {
   "display_name": "Python 3",
   "language": "python",
   "name": "python3"
  },
  "language_info": {
   "codemirror_mode": {
    "name": "ipython",
    "version": 3
   },
   "file_extension": ".py",
   "mimetype": "text/x-python",
   "name": "python",
   "nbconvert_exporter": "python",
   "pygments_lexer": "ipython3",
   "version": "3.6.2"
  }
 },
 "nbformat": 4,
 "nbformat_minor": 2
}

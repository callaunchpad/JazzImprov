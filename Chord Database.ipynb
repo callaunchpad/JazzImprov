{
 "cells": [
  {
   "cell_type": "code",
   "execution_count": 13,
   "metadata": {
    "collapsed": true
   },
   "outputs": [],
   "source": [
    "import numpy as np\n",
    "import pychord as pc\n"
   ]
  },
  {
   "cell_type": "code",
   "execution_count": 24,
   "metadata": {},
   "outputs": [
    {
     "name": "stdout",
     "output_type": "stream",
     "text": [
      "C\n",
      "C\n",
      "A\n",
      "A\n",
      "Eb\n",
      "Eb\n"
     ]
    }
   ],
   "source": [
    "chords_database = {}\n",
    "chords_list = ['C', 'A', 'Eb']\n",
    "\n",
    "for chord in chords_list:\n",
    "    print(chord)\n",
    "    c = Chord(chord)\n",
    "    chords_database[chord] = {}\n",
    "    chords_database[chord]['chord'] = c.components()\n",
    "    chords_database[chord]['color'] = [pc.utils.val_to_note(11, chord)]\n",
    "    #val_to_note(7, chord), val_to_note(9, chord), val_to_note(11, chord), val_to_note(13, chord)]\n",
    "    #chords_database[chord]['arbitrary'] =  [val_to_note(2, chord), val_to_note(4, chord), val_to_note(8, chord)]"
   ]
  },
  {
   "cell_type": "code",
   "execution_count": 21,
   "metadata": {},
   "outputs": [
    {
     "data": {
      "text/plain": [
       "{'A': {'chord': ['A', 'C#', 'E'], 'color': ['B']},\n",
       " 'C': {'chord': ['C', 'E', 'G'], 'color': ['B']},\n",
       " 'Eb': {'chord': ['Eb', 'G', 'Bb'], 'color': ['B']}}"
      ]
     },
     "execution_count": 21,
     "metadata": {},
     "output_type": "execute_result"
    }
   ],
   "source": [
    "c = Chord(\"Am7\")\n",
    "c.components()\n",
    "\n",
    "chords_database"
   ]
  },
  {
   "cell_type": "code",
   "execution_count": 33,
   "metadata": {},
   "outputs": [
    {
     "data": {
      "text/plain": [
       "'B'"
      ]
     },
     "execution_count": 33,
     "metadata": {},
     "output_type": "execute_result"
    }
   ],
   "source": [
    "pc.utils.val_to_note(11, )"
   ]
  },
  {
   "cell_type": "code",
   "execution_count": null,
   "metadata": {
    "collapsed": true
   },
   "outputs": [],
   "source": []
  }
 ],
 "metadata": {
  "kernelspec": {
   "display_name": "Python 3",
   "language": "python",
   "name": "python3"
  },
  "language_info": {
   "codemirror_mode": {
    "name": "ipython",
    "version": 3
   },
   "file_extension": ".py",
   "mimetype": "text/x-python",
   "name": "python",
   "nbconvert_exporter": "python",
   "pygments_lexer": "ipython3",
   "version": "3.6.1"
  }
 },
 "nbformat": 4,
 "nbformat_minor": 2
}

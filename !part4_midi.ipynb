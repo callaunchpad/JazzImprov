{
 "cells": [
  {
   "cell_type": "code",
   "execution_count": 2,
   "metadata": {
    "collapsed": true
   },
   "outputs": [],
   "source": [
    "import pandas as pd\n",
    "import re\n",
    "import mido"
   ]
  },
  {
   "cell_type": "code",
   "execution_count": 3,
   "metadata": {},
   "outputs": [
    {
     "name": "stdout",
     "output_type": "stream",
     "text": [
      "60\n"
     ]
    }
   ],
   "source": [
    "# defines numerical values for notes\n",
    "notes = ['C', 'Db', 'D', 'Eb', 'E', 'F', 'Gb', 'G', 'Ab', 'A', 'Bb', 'B']\n",
    "note_to_num = dict([[n, i] for i, n in enumerate(notes)])\n",
    "num_to_note = dict([[v, k] for k, v in note_to_num.items()])\n",
    "\n",
    "same_note = {'A#':'Bb', 'C#':'Db', 'D#':'Eb', 'F#': 'Gb', 'G#':'Ab'}\n",
    "\n",
    "def split_note(note):\n",
    "    assert re.fullmatch('[A-G](#|b)?[0-7]', note) is not None, 'Note not formatted correctly.'\n",
    "    return note[:-1], int(note[-1])\n",
    "\n",
    "\n",
    "def name_to_num(name):\n",
    "    note, octave = split_note(name)\n",
    "    b = \"\"\n",
    "    if note in same_note: \n",
    "        b = note_to_num[same_note[note]]\n",
    "    else: \n",
    "        b = note_to_num[note]\n",
    "    a = (octave + 1) * 12 \n",
    "    return a + b \n",
    "\n",
    "print(name_to_num(\"C4\"))\n",
    "    "
   ]
  },
  {
   "cell_type": "code",
   "execution_count": 5,
   "metadata": {},
   "outputs": [
    {
     "name": "stdout",
     "output_type": "stream",
     "text": [
      "0.008\n",
      "time0.08000000000000002\n",
      "0.009999999999999981\n",
      "time0.241\n",
      "0.02300000000000002\n",
      "time0.355\n",
      "0.010000000000000009\n",
      "time0.444\n",
      "0.04800000000000004\n",
      "time0.5820000000000001\n",
      "0.025999999999999912\n",
      "time0.742\n",
      "0.3800000000000001\n",
      "time1.2610000000000001\n",
      "0.02200000000000002\n",
      "time1.5530000000000002\n",
      "1.215\n",
      "time2.959\n",
      "0.18900000000000006\n",
      "time3.214\n",
      "0.014000000000000234\n",
      "time3.379\n",
      "0.019000000000000128\n",
      "time3.446\n",
      "0.010000000000000231\n",
      "time3.6010000000000004\n",
      "0.016999999999999904\n",
      "time3.7870000000000004\n",
      "0.06199999999999939\n",
      "time4.096\n",
      "0.6719999999999997\n",
      "time4.959\n",
      "0.48600000000000065\n",
      "time5.612\n",
      "0.03399999999999981\n",
      "time5.822\n",
      "0.021999999999999353\n",
      "time6.004\n",
      "0.009999999999999787\n",
      "time6.138999999999999\n",
      "0.07200000000000095\n",
      "time6.296\n",
      "0.03000000000000025\n",
      "time6.481000000000001\n",
      "1.286999999999999\n",
      "time7.959\n"
     ]
    }
   ],
   "source": [
    "filename = \"webster_8_simple\"\n",
    "df = pd.read_csv(\"generated_solos/\" + filename + \".csv\")\n",
    "mid = mido.MidiFile()\n",
    "track = mido.MidiTrack()\n",
    "mid.tracks.append(track)\n",
    "track.append(mido.MetaMessage('set_tempo', tempo=mido.bpm2tempo(182)))\n",
    "\n",
    "time_count = 0 \n",
    "\n",
    "for index, row in df.iterrows():\n",
    "    y = row[2] - time_count\n",
    "    print(y)\n",
    "    track.append(mido.Message('note_on', note=name_to_num(row[1]), velocity=64, time= int(y * 4 * mid.ticks_per_beat)))\n",
    "    time_count = row[2] \n",
    "    x = int(mid.ticks_per_beat *  row[3] * 4)\n",
    "    track.append(mido.Message('note_off', note=name_to_num(row[1]), velocity=64, time= x))\n",
    "    time_count += row[3]\n",
    "    print(\"time\" + str(time_count))\n",
    "mid.save('generated_solos/' + filename + '.mid')\n"
   ]
  },
  {
   "cell_type": "code",
   "execution_count": null,
   "metadata": {
    "collapsed": true
   },
   "outputs": [],
   "source": []
  },
  {
   "cell_type": "code",
   "execution_count": null,
   "metadata": {
    "collapsed": true
   },
   "outputs": [],
   "source": []
  }
 ],
 "metadata": {
  "kernelspec": {
   "display_name": "Python 3",
   "language": "python",
   "name": "python3"
  },
  "language_info": {
   "codemirror_mode": {
    "name": "ipython",
    "version": 3
   },
   "file_extension": ".py",
   "mimetype": "text/x-python",
   "name": "python",
   "nbconvert_exporter": "python",
   "pygments_lexer": "ipython3",
   "version": "3.6.1"
  }
 },
 "nbformat": 4,
 "nbformat_minor": 2
}

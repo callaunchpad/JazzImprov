{
 "cells": [
  {
   "cell_type": "code",
   "execution_count": 1,
   "metadata": {
    "collapsed": true
   },
   "outputs": [],
   "source": [
    "import numpy as np\n",
    "import pandas as pd\n",
    "import re, os, random"
   ]
  },
  {
   "cell_type": "markdown",
   "metadata": {},
   "source": [
    "# Part 2: Grammar Generation\n",
    "This stage of the pipeline moves towards generation of \"s-expression\", which encode little snippets of style from the training data. This information is passed along to create the model.\n",
    "## Note and Chord Functionality\n",
    "### Note Definition and Functions\n",
    "We define these as helper functions for later on.\n",
    "Note that a note (ahaha) is a string with first character a capital letter from A-G, followed by an option '#' or 'b' for sharp/flat."
   ]
  },
  {
   "cell_type": "code",
   "execution_count": 10,
   "metadata": {},
   "outputs": [
    {
     "name": "stdout",
     "output_type": "stream",
     "text": [
      "{'C': 0, 'Db': 1, 'D': 2, 'Eb': 3, 'E': 4, 'F': 5, 'Gb': 6, 'G': 7, 'Ab': 8, 'A': 9, 'Bb': 10, 'B': 11}\n",
      "{0: 'C', 1: 'Db', 2: 'D', 3: 'Eb', 4: 'E', 5: 'F', 6: 'Gb', 7: 'G', 8: 'Ab', 9: 'A', 10: 'Bb', 11: 'B'}\n"
     ]
    }
   ],
   "source": [
    "# defines numerical values for notes\n",
    "notes = ['C', 'Db', 'D', 'Eb', 'E', 'F', 'Gb', 'G', 'Ab', 'A', 'Bb', 'B']\n",
    "note_to_num = dict([[n, i] for i, n in enumerate(notes)])\n",
    "num_to_note = dict([[v, k] for k, v in note_to_num.items()])\n",
    "same_note = {'A#':'Bb', 'C#':'Db', 'D#':'Eb', 'F#': 'Gb', 'G#':'Ab'}\n",
    "print(note_to_num)\n",
    "print(num_to_note)"
   ]
  },
  {
   "cell_type": "code",
   "execution_count": null,
   "metadata": {
    "collapsed": true
   },
   "outputs": [],
   "source": [
    "# checks if a note is formatted correctly and splits it into its component parts\n",
    "def split_note(note):\n",
    "    assert re.fullmatch('[A-G](#|b)?[0-7]', note) is not None, 'Note not formatted correctly.'\n",
    "    note, octave = note[:-1], int(note[-1])\n",
    "    if note in same_note:\n",
    "        note = same_note[note]\n",
    "    return note, octave\n",
    "\n",
    "# shifts the note by amount half-steps (possibly negative)\n",
    "def shift_note(note, amount):\n",
    "    note, octave = split_note(note)\n",
    "    new_num = note_to_num[note] + amount\n",
    "    if new_num > 11:\n",
    "        octave += 1\n",
    "    elif new_num < 0:\n",
    "        octave -= 1\n",
    "    return num_to_note[(new_num) % 12] + str(octave)\n",
    "\n",
    "# output is positive if note2 is above noteorchord1, 0 if same\n",
    "def find_note_dist(note_or_chord1, note2, chord=False):\n",
    "    # positive if note2 is above noteorchord1, 0 if same\n",
    "    tot = 0\n",
    "    note2, octave2 = split_note(note2)\n",
    "    if not chord:\n",
    "        note_or_chord1, octave1 = split_note(note_or_chord1)\n",
    "        tot += (octave2 - octave1) * 12\n",
    "    tot += note_to_num[note2] - note_to_num[note_or_chord1]\n",
    "    return tot"
   ]
  },
  {
   "cell_type": "markdown",
   "metadata": {},
   "source": [
    "### Chord Dictionary and Type Categorization\n",
    "Defines the half step numbers for each category for each chord type."
   ]
  },
  {
   "cell_type": "code",
   "execution_count": null,
   "metadata": {
    "collapsed": true
   },
   "outputs": [],
   "source": [
    "chord_dictionary = {\n",
    "    \"major\": {\"C\": [0, 4, 7], \"L\": [2, 4, 6, 11]},\n",
    "    \"minor\": {\"C\": [0, 4, 8], \"L\": [2, 3, 5, 7, 10]},\n",
    "    \"augmented\": {\"C\": [0, 4, 8], \"L\": []},\n",
    "    \"diminished\": {\"C\": [0, 3, 6] ,  \"L\": []},\n",
    "    \"half-diminished\": {\"C\": [0, 3, 6, 10], \"L\": []},\n",
    "    \"dominant-seventh\": {\"C\": [0, 4, 7, 10], \"L\": [] }\n",
    "}"
   ]
  },
  {
   "cell_type": "code",
   "execution_count": null,
   "metadata": {
    "collapsed": true
   },
   "outputs": [],
   "source": [
    "def find_chord_type(chord):\n",
    "    if \"m7b5\" in chord:\n",
    "        return \"half-diminished\"\n",
    "    elif \"j7\" in chord:\n",
    "        return \"dominant-seventh\"\n",
    "    elif \"o\" in chord:\n",
    "        return \"diminished\"\n",
    "    elif \"m\" in chord: \n",
    "        return \"minor\"\n",
    "    else:\n",
    "        return \"major\""
   ]
  },
  {
   "cell_type": "markdown",
   "metadata": {},
   "source": [
    "## Generating S-expressions\n",
    "This requires a function to find the maximum and minimum slope between two notes, as well as a function to categorize a note given the chord it is played over.\n",
    "### Finding Slope Bounds"
   ]
  },
  {
   "cell_type": "code",
   "execution_count": null,
   "metadata": {
    "collapsed": true
   },
   "outputs": [],
   "source": [
    "def find_slope_bounds(lst):\n",
    "    max_jump, min_jump = 0, 0\n",
    "    for i in range(len(lst) - 1):\n",
    "        max_jump = max(max_jump, note_dist(lst[i], lst[i+1]))\n",
    "        min_jump = min(min_jump, note_dist(lst[i], lst[i+1]))\n",
    "    return str(min_jump) + ' ' + str(max_jump)"
   ]
  },
  {
   "cell_type": "markdown",
   "metadata": {},
   "source": [
    "### Categorizing a Note"
   ]
  },
  {
   "cell_type": "code",
   "execution_count": null,
   "metadata": {
    "collapsed": true
   },
   "outputs": [],
   "source": [
    "def categorize_note(note, chord, nextchord):\n",
    "    root = chord[0]\n",
    "    chord_type = find_chord_type(chord)\n",
    "    dist = find_note_dist(root, note, True)\n",
    "    for chord_type, interval_list in chord_dictionary[chord_type].items():\n",
    "        if dist in interval_list:\n",
    "            return chord_type\n",
    "    if chord == nextchord:\n",
    "        return \"X\"\n",
    "    else:\n",
    "        return \"A\""
   ]
  },
  {
   "cell_type": "markdown",
   "metadata": {},
   "source": [
    "### Generation of Expression String\n",
    "S-expressions are in the form `\"min_slope max_slope note_string|start_time|duration ...\"`"
   ]
  },
  {
   "cell_type": "code",
   "execution_count": null,
   "metadata": {
    "collapsed": true
   },
   "outputs": [],
   "source": [
    "def create_s_exp(notes):\n",
    "    # notes is list of tuples of (note_string, start_time, duration, chord, last_chord)\n",
    "    s = ''\n",
    "    notes_only = []\n",
    "    for note, start, duration, chord, last_chord in notes:\n",
    "        s += categorize_note(note, chord, last_chord) + '|%.3f|%.3f '%(duration, start % 1)\n",
    "        notes_only.append(note)\n",
    "    return find_slope_bounds(notes_only) + ' ' + s"
   ]
  },
  {
   "cell_type": "markdown",
   "metadata": {},
   "source": [
    "## Featurizing S-expressions\n",
    "We currently use 6 different functions to featurize our s-expressions."
   ]
  },
  {
   "cell_type": "code",
   "execution_count": null,
   "metadata": {
    "collapsed": true
   },
   "outputs": [],
   "source": []
  }
 ],
 "metadata": {
  "kernelspec": {
   "display_name": "Python 3",
   "language": "python",
   "name": "python3"
  },
  "language_info": {
   "codemirror_mode": {
    "name": "ipython",
    "version": 3
   },
   "file_extension": ".py",
   "mimetype": "text/x-python",
   "name": "python",
   "nbconvert_exporter": "python",
   "pygments_lexer": "ipython3",
   "version": "3.6.2"
  }
 },
 "nbformat": 4,
 "nbformat_minor": 2
}

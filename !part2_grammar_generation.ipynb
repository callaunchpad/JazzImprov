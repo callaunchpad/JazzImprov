{
 "cells": [
  {
   "cell_type": "code",
   "execution_count": 10,
   "metadata": {},
   "outputs": [],
   "source": [
    "import numpy as np\n",
    "import pandas as pd\n",
    "import re, os, random"
   ]
  },
  {
   "cell_type": "markdown",
   "metadata": {},
   "source": [
    "# Part 2: Grammar Generation\n",
    "This stage of the pipeline moves towards generation of \"s-expression\", which encode little snippets of style from the training data. This information is passed along to create the model.\n",
    "## Note and Chord Functionality\n",
    "### Note Definition and Functions\n",
    "We define these as helper functions for later on.\n",
    "Note that a note (ahaha) is a string with first character a capital letter from A-G, followed by an option '#' or 'b' for sharp/flat."
   ]
  },
  {
   "cell_type": "code",
   "execution_count": 11,
   "metadata": {},
   "outputs": [
    {
     "name": "stdout",
     "output_type": "stream",
     "text": [
      "{'C': 0, 'Db': 1, 'D': 2, 'Eb': 3, 'E': 4, 'F': 5, 'Gb': 6, 'G': 7, 'Ab': 8, 'A': 9, 'Bb': 10, 'B': 11}\n",
      "{0: 'C', 1: 'Db', 2: 'D', 3: 'Eb', 4: 'E', 5: 'F', 6: 'Gb', 7: 'G', 8: 'Ab', 9: 'A', 10: 'Bb', 11: 'B'}\n"
     ]
    }
   ],
   "source": [
    "# defines numerical values for notes\n",
    "notes = ['C', 'Db', 'D', 'Eb', 'E', 'F', 'Gb', 'G', 'Ab', 'A', 'Bb', 'B']\n",
    "note_to_num = dict([[n, i] for i, n in enumerate(notes)])\n",
    "num_to_note = dict([[v, k] for k, v in note_to_num.items()])\n",
    "same_note = {'A#':'Bb', 'C#':'Db', 'D#':'Eb', 'F#': 'Gb', 'G#':'Ab'}\n",
    "print(note_to_num)\n",
    "print(num_to_note)"
   ]
  },
  {
   "cell_type": "code",
   "execution_count": 12,
   "metadata": {},
   "outputs": [],
   "source": [
    "# checks if a note is formatted correctly and splits it into its component parts\n",
    "def split_note(note):\n",
    "    assert re.fullmatch('[A-G][#|b]?[0-7]', note) is not None, 'Note not formatted correctly.'\n",
    "    note, octave = note[:-1], int(note[-1])\n",
    "    if note in same_note:\n",
    "        note = same_note[note]\n",
    "    return note, octave\n",
    "\n",
    "# shifts the note by amount half-steps (possibly negative)\n",
    "def shift_note(note, amount):\n",
    "    note, octave = split_note(note)\n",
    "    new_num = note_to_num[note] + amount\n",
    "    if new_num > 11:\n",
    "        octave += 1\n",
    "    elif new_num < 0:\n",
    "        octave -= 1\n",
    "    return num_to_note[(new_num) % 12] + str(octave)\n",
    "\n",
    "def get_root(chord):\n",
    "    r = re.findall('^[A-G][#|b]?', chord) \n",
    "    assert r is not None, 'Chord does not contain root note'\n",
    "    return r[0]\n",
    "\n",
    "# output is positive if note2 is above noteorchord1, 0 if same\n",
    "def find_note_dist(note_or_chord1, note2, chord=False):\n",
    "    note1 = '%s0'%get_root(note_or_chord1) if chord else note_or_chord1\n",
    "    note1, octave1 = split_note(note1)\n",
    "    note2, octave2 = split_note(note2)\n",
    "    dist = (octave2 - octave1) * 12 + note_to_num[note2] - note_to_num[note1]\n",
    "    return dist % 12 if chord else dist"
   ]
  },
  {
   "cell_type": "markdown",
   "metadata": {},
   "source": [
    "### Chord Dictionary and Type Categorization\n",
    "Defines the half step numbers for each category for each chord type."
   ]
  },
  {
   "cell_type": "code",
   "execution_count": 13,
   "metadata": {},
   "outputs": [],
   "source": [
    "chord_dictionary = {\n",
    "    \"major\": {\"C\": [0, 4, 7], \"L\": [2, 5, 9, 11]},\n",
    "    \"minor\": {\"C\": [0, 3, 7], \"L\": [2, 5, 8, 10]},\n",
    "#     \"augmented\": {\"C\": [0, 4, 8], \"L\": [2]},\n",
    "    \"diminished\": {\"C\": [0, 3, 6, 9] ,  \"L\": [2]},\n",
    "    \"half-diminished\": {\"C\": [0, 3, 6, 10], \"L\": [2]},\n",
    "    \"dominant-seventh\": {\"C\": [0, 4, 7, 10], \"L\": [2, 5]}\n",
    "}\n",
    "\n",
    "extension_dictionary = {\n",
    "    \"major\": {2: 2, 4: 5, 5: 7, 6: 9, 7: 11, 9: 2, 11: 5},\n",
    "    \"minor\": {2: 2, 4: 5, 5: 7, 6: 8, 7: 10, 9: 2, 11: 5}\n",
    "}"
   ]
  },
  {
   "cell_type": "code",
   "execution_count": 14,
   "metadata": {},
   "outputs": [
    {
     "data": {
      "text/plain": [
       "{'A7', 'C7', 'D6', 'Dj7', 'E-7', 'Em7b5', 'F#-7', 'Fj7', 'Fo', 'G#m7b5', 'G-7'}"
      ]
     },
     "execution_count": 14,
     "metadata": {},
     "output_type": "execute_result"
    }
   ],
   "source": [
    "w = pd.read_csv('midi_to_csv/WebsterNight_chords.csv')\n",
    "set(w['chord'])"
   ]
  },
  {
   "cell_type": "code",
   "execution_count": 15,
   "metadata": {},
   "outputs": [],
   "source": [
    "def find_chord_type(chord):    \n",
    "    if \"m7b5\" in chord:\n",
    "        return \"half-diminished\"\n",
    "    elif \"j7\" in chord:\n",
    "        return \"dominant-seventh\"\n",
    "    elif \"-7\" in chord:\n",
    "        return \"minor\" # TODO: figure out what this actually is\n",
    "    elif \"o\" in chord:\n",
    "        return \"diminished\"\n",
    "    elif \"m\" in chord:\n",
    "        return \"minor\"\n",
    "    else:\n",
    "        return \"major\""
   ]
  },
  {
   "cell_type": "code",
   "execution_count": 16,
   "metadata": {},
   "outputs": [],
   "source": [
    "def find_chord_modifiers(chord, chord_type):\n",
    "    '''\n",
    "    Currently this is not-so-good code - fix pls\n",
    "    '''\n",
    "    if chord_type not in extension_dictionary or '-' in chord: # bad bad\n",
    "        return []\n",
    "    root = get_root(chord)\n",
    "    chord_desc = chord[len(root):]\n",
    "    modifiers = [0]\n",
    "    for c in chord_desc:\n",
    "        if c in ['b', '#']:\n",
    "            modifiers.append(c)\n",
    "        elif c != 'm':\n",
    "            offset = extension_dictionary[chord_type][int(c)]\n",
    "            if modifiers[-1] == 'b':\n",
    "                modifiers[-1] = offset - 1\n",
    "            elif modifiers[-1] == '#':\n",
    "                modifiers[-1] = offset + 1\n",
    "            else:\n",
    "                modifiers.append(offset)\n",
    "    return modifiers[1:]"
   ]
  },
  {
   "cell_type": "code",
   "execution_count": 17,
   "metadata": {},
   "outputs": [
    {
     "data": {
      "text/plain": [
       "[11, 6]"
      ]
     },
     "execution_count": 17,
     "metadata": {},
     "output_type": "execute_result"
    }
   ],
   "source": [
    "chord = 'Eb7b5'\n",
    "find_chord_modifiers(chord, find_chord_type(chord))"
   ]
  },
  {
   "cell_type": "markdown",
   "metadata": {},
   "source": [
    "## Generating S-expressions\n",
    "This requires a function to find the maximum and minimum slope between two notes, as well as a function to categorize a note given the chord it is played over.\n",
    "### Finding Slope Bounds"
   ]
  },
  {
   "cell_type": "code",
   "execution_count": 18,
   "metadata": {},
   "outputs": [],
   "source": [
    "def find_slope_bounds(lst):\n",
    "    '''\n",
    "    lst: list of full notes\n",
    "    '''\n",
    "    max_jump, min_jump = 0, 0\n",
    "    for i in range(len(lst) - 1):\n",
    "        max_jump = max(max_jump, find_note_dist(lst[i], lst[i+1]))\n",
    "        min_jump = min(min_jump, find_note_dist(lst[i], lst[i+1]))\n",
    "    return min_jump, max_jump"
   ]
  },
  {
   "cell_type": "markdown",
   "metadata": {},
   "source": [
    "### Categorizing a Note"
   ]
  },
  {
   "cell_type": "code",
   "execution_count": 19,
   "metadata": {},
   "outputs": [],
   "source": [
    "def categorize_note(note, chord, modifiers=True, helpful=0.0):\n",
    "    root = get_root(chord)\n",
    "    chord_type = find_chord_type(chord)\n",
    "    dist = find_note_dist(root, note, True)\n",
    "    if modifiers and dist in find_chord_modifiers(chord, chord_type):\n",
    "        return 'C'\n",
    "#     approach_flag = False\n",
    "    for note_type, interval_list in chord_dictionary[chord_type].items():\n",
    "        if dist in interval_list:\n",
    "            if note_type in ['C', 'L'] and random.random() < helpful:\n",
    "                return 'H'\n",
    "            return note_type\n",
    "#         if (dist + 1) % 12 in interval_list or (dist - 1) % 12 in interval_list:\n",
    "#             approach_flag = True\n",
    "    return 'X'"
   ]
  },
  {
   "cell_type": "markdown",
   "metadata": {},
   "source": [
    "### Generation of S-expression String\n",
    "S-expressions are in the form `\"min_slope max_slope note_string|start_time|duration ...\"`\n",
    "\n",
    "**This is the main function that will be used from this section (calls the other two functions above)**"
   ]
  },
  {
   "cell_type": "code",
   "execution_count": 20,
   "metadata": {},
   "outputs": [],
   "source": [
    "# Not the prettiest...\n",
    "def create_s_exp(notes):\n",
    "    # notes is list of tuples of (note_string, start_time, duration, chord)\n",
    "    s_exp = ''\n",
    "    notes_only = [chunk[0] for chunk in notes] # could probably just splice categories array\n",
    "    categories = [categorize_note(chunk[0], chunk[3]) for chunk in notes]\n",
    "    for i, (note, start, duration, chord) in enumerate(notes):\n",
    "        category = categories[i]\n",
    "        if i < len(notes) - 1 and category == 'X' and categories[i + 1] in ['C', 'L'] \\\n",
    "          and find_note_dist(notes_only[i], notes_only[i + 1]) in [-1, 1]:\n",
    "            category = 'A'\n",
    "        catcount[category] += 1\n",
    "        s_exp += category + '|%.3f|%.3f '%(start % 1, duration)\n",
    "    return '%d %d '%find_slope_bounds(notes_only) + s_exp.strip()"
   ]
  },
  {
   "cell_type": "code",
   "execution_count": 21,
   "metadata": {},
   "outputs": [
    {
     "data": {
      "text/plain": [
       "'-11 0 C|0.400|0.250 L|0.700|0.100'"
      ]
     },
     "execution_count": 21,
     "metadata": {},
     "output_type": "execute_result"
    }
   ],
   "source": [
    "create_s_exp([('Ab5', 2.4, .25, 'Fm'), ('A4', 2.7, .1, 'C')])"
   ]
  },
  {
   "cell_type": "markdown",
   "metadata": {},
   "source": [
    "## Featurizing S-expressions\n",
    "We currently use 6 different functions to featurize our s-expressions.\n",
    "\n",
    "### 1. Number of Notes\n",
    "Easy enough - take the length of the list of notes"
   ]
  },
  {
   "cell_type": "code",
   "execution_count": 22,
   "metadata": {},
   "outputs": [],
   "source": [
    "len = len # :P"
   ]
  },
  {
   "cell_type": "markdown",
   "metadata": {},
   "source": [
    "### 2. Location of the First Note\n",
    "The fraction of how far into the measure the first note starts."
   ]
  },
  {
   "cell_type": "code",
   "execution_count": 23,
   "metadata": {},
   "outputs": [],
   "source": [
    "loc_first = lambda notes: notes[0][1] % 1"
   ]
  },
  {
   "cell_type": "markdown",
   "metadata": {},
   "source": [
    "### 3. Total Duration of Rests\n",
    "$1 - \\sum\\limits_{note\\in measure} \\text{duration}(note)$"
   ]
  },
  {
   "cell_type": "code",
   "execution_count": 24,
   "metadata": {},
   "outputs": [],
   "source": [
    "tot_rests = lambda notes: 1 - sum([note[1] for note in notes])"
   ]
  },
  {
   "cell_type": "markdown",
   "metadata": {},
   "source": [
    "### 4/5. Average Maximum Slope and Order of Contour\n",
    "The average magnitude of each rising/falling run and how many times the slope changes direction, respectively."
   ]
  },
  {
   "cell_type": "code",
   "execution_count": 25,
   "metadata": {},
   "outputs": [],
   "source": [
    "def slope_process(notes):\n",
    "    slopes = []\n",
    "    ascending = True\n",
    "    curr_max = 0\n",
    "    last_note = notes[0][0]\n",
    "    direction_changes = 0\n",
    "    for term in notes[1:]:\n",
    "        note = term[0]\n",
    "        dist = find_note_dist(last_note, note)\n",
    "        if dist > 0:\n",
    "            if ascending:\n",
    "                curr_max = max(curr_max, dist)\n",
    "            else:\n",
    "                ascending = True\n",
    "                slopes.append(curr_max)\n",
    "                curr_max = dist\n",
    "                direction_changes += 1\n",
    "        if dist < 0:\n",
    "            if not ascending:\n",
    "                curr_max = max(curr_max, -dist)\n",
    "            else:\n",
    "                ascending = False\n",
    "                slopes.append(curr_max)\n",
    "                curr_max = -dist\n",
    "                direction_changes += 1\n",
    "        last_note = note\n",
    "    slopes.append(curr_max)\n",
    "    return np.mean(slopes), direction_changes\n",
    "\n",
    "avg_max_slope = lambda notes: slope_process(notes)[0]\n",
    "order_contour = lambda notes: slope_process(notes)[1]"
   ]
  },
  {
   "cell_type": "markdown",
   "metadata": {},
   "source": [
    "### 6. Consonance\n",
    "Depends on the category of the notes - a higher value corresponds to more chord tones."
   ]
  },
  {
   "cell_type": "code",
   "execution_count": 26,
   "metadata": {},
   "outputs": [],
   "source": [
    "def consonance(s_exp):\n",
    "    total = 0.0\n",
    "    measure = s_exp.split(' ')[2:]\n",
    "    \n",
    "    weights = {'C': 0.8, 'L': 0.4, 'H': 0.6, 'X': 0.1, 'A': 0.4}\n",
    "    for term in measure:\n",
    "        note_info = term.split('|')\n",
    "        note = note_info[0]\n",
    "        duration = note_info[2]\n",
    "        if note in weights:\n",
    "            total += weights[note] * float(duration)\n",
    "    return total"
   ]
  },
  {
   "cell_type": "markdown",
   "metadata": {},
   "source": [
    "### Using all of the above\n",
    "**This is the main function that will be used from this section (calls the other five functions above)**"
   ]
  },
  {
   "cell_type": "code",
   "execution_count": 27,
   "metadata": {},
   "outputs": [],
   "source": [
    "def featurize(args):\n",
    "    feature_funcs = [len, loc_first, tot_rests, avg_max_slope, order_contour, consonance]\n",
    "    assert len(feature_funcs) == num_features, \"Incorrect number of features\"\n",
    "    arg_num = [0, 0, 0, 0, 0, 1]\n",
    "    features = {}\n",
    "    for i, func in enumerate(feature_funcs):\n",
    "        features[str(i)] = func(args[arg_num[i]])\n",
    "    return features"
   ]
  },
  {
   "cell_type": "markdown",
   "metadata": {},
   "source": [
    "## Processing a Solo MIDI\n",
    "Returns two pandas DataFrames representing the s-expressions of this solo and their features."
   ]
  },
  {
   "cell_type": "code",
   "execution_count": 28,
   "metadata": {},
   "outputs": [],
   "source": [
    "def process_solo(filename, s_exp, features):\n",
    "    measure = 0\n",
    "    curr_s_exp = []\n",
    "    song = pd.read_csv('%s/%s'%(start_directory, filename))\n",
    "    for i in range(len(song)):\n",
    "        curr_note = song.iloc[i]\n",
    "        if measure != int(curr_note['start_time']):\n",
    "            s = create_s_exp(curr_s_exp)\n",
    "            row_s = {'exp': s, 'song_id': song_num, 'song_index': measure}\n",
    "            s_exp = s_exp.append(row_s, ignore_index=True)\n",
    "            row_f = featurize([curr_s_exp, s])\n",
    "            features = features.append(row_f, ignore_index=True)\n",
    "            curr_s_exp = []\n",
    "            measure = int(curr_note['start_time'])\n",
    "        curr_s_exp.append((curr_note['note_name'], curr_note['start_time'], curr_note['duration'], curr_note['chord']))\n",
    "    # TODO: try to not have this tail of loop - just repeat of chunk of for-loop\n",
    "    s = create_s_exp(curr_s_exp)\n",
    "    row_s = {'exp': s, 'song_id': song_num, 'song_index': measure}\n",
    "    s_exp = s_exp.append(row_s, ignore_index=True)\n",
    "    row_f = featurize([curr_s_exp, s])\n",
    "    features = features.append(row_f, ignore_index=True)\n",
    "    return s_exp, features"
   ]
  },
  {
   "cell_type": "markdown",
   "metadata": {},
   "source": [
    "## All together now...\n",
    "It's all come down to this one for loop..."
   ]
  },
  {
   "cell_type": "code",
   "execution_count": 29,
   "metadata": {},
   "outputs": [],
   "source": [
    "start_directory = 'midi_to_csv'\n",
    "end_directory = 'test_files'\n",
    "\n",
    "num_features = 6"
   ]
  },
  {
   "cell_type": "code",
   "execution_count": 30,
   "metadata": {},
   "outputs": [],
   "source": [
    "catcount = {'C': 0, 'L': 0, 'H': 0, 'A': 0, 'X': 0}"
   ]
  },
  {
   "cell_type": "code",
   "execution_count": 31,
   "metadata": {},
   "outputs": [],
   "source": [
    "s_exp = pd.DataFrame(columns=['exp', 'song_id', 'song_index'])\n",
    "features = pd.DataFrame(columns=[str(i) for i in range(num_features)])\n",
    "song_num = 0\n",
    "for filename in os.listdir(start_directory):\n",
    "    if filename.endswith('chords.csv'): # TODO: CHANGE THIS\n",
    "        s_exp, features = process_solo(filename, s_exp, features)\n",
    "        song_num += 1"
   ]
  },
  {
   "cell_type": "code",
   "execution_count": 32,
   "metadata": {},
   "outputs": [
    {
     "data": {
      "text/plain": [
       "{'A': 21, 'C': 174, 'H': 0, 'L': 80, 'X': 100}"
      ]
     },
     "execution_count": 32,
     "metadata": {},
     "output_type": "execute_result"
    }
   ],
   "source": [
    "catcount"
   ]
  },
  {
   "cell_type": "code",
   "execution_count": 33,
   "metadata": {},
   "outputs": [],
   "source": [
    "b = {'A': 63, 'C': 174, 'H': 0, 'L': 80, 'X': 58}"
   ]
  },
  {
   "cell_type": "code",
   "execution_count": 34,
   "metadata": {},
   "outputs": [],
   "source": [
    "a = {'A': 116, 'C': 170, 'H': 0, 'L': 84, 'X': 5}"
   ]
  },
  {
   "cell_type": "code",
   "execution_count": 35,
   "metadata": {},
   "outputs": [
    {
     "data": {
      "text/html": [
       "<div>\n",
       "<style scoped>\n",
       "    .dataframe tbody tr th:only-of-type {\n",
       "        vertical-align: middle;\n",
       "    }\n",
       "\n",
       "    .dataframe tbody tr th {\n",
       "        vertical-align: top;\n",
       "    }\n",
       "\n",
       "    .dataframe thead th {\n",
       "        text-align: right;\n",
       "    }\n",
       "</style>\n",
       "<table border=\"1\" class=\"dataframe\">\n",
       "  <thead>\n",
       "    <tr style=\"text-align: right;\">\n",
       "      <th></th>\n",
       "      <th>exp</th>\n",
       "      <th>song_id</th>\n",
       "      <th>song_index</th>\n",
       "    </tr>\n",
       "  </thead>\n",
       "  <tbody>\n",
       "    <tr>\n",
       "      <th>0</th>\n",
       "      <td>0 4 X|0.125|0.155 X|0.290|0.725</td>\n",
       "      <td>0</td>\n",
       "      <td>0</td>\n",
       "    </tr>\n",
       "    <tr>\n",
       "      <th>1</th>\n",
       "      <td>0 0 L|0.678|0.340</td>\n",
       "      <td>0</td>\n",
       "      <td>1</td>\n",
       "    </tr>\n",
       "    <tr>\n",
       "      <th>2</th>\n",
       "      <td>-3 0 X|0.036|0.174 X|0.255|0.164 C|0.443|0.195...</td>\n",
       "      <td>0</td>\n",
       "      <td>2</td>\n",
       "    </tr>\n",
       "    <tr>\n",
       "      <th>3</th>\n",
       "      <td>0 0 C|0.004|0.243</td>\n",
       "      <td>0</td>\n",
       "      <td>3</td>\n",
       "    </tr>\n",
       "    <tr>\n",
       "      <th>4</th>\n",
       "      <td>-3 7 A|0.171|0.073 C|0.263|0.130 X|0.408|0.185...</td>\n",
       "      <td>0</td>\n",
       "      <td>4</td>\n",
       "    </tr>\n",
       "  </tbody>\n",
       "</table>\n",
       "</div>"
      ],
      "text/plain": [
       "                                                 exp song_id song_index\n",
       "0                    0 4 X|0.125|0.155 X|0.290|0.725       0          0\n",
       "1                                  0 0 L|0.678|0.340       0          1\n",
       "2  -3 0 X|0.036|0.174 X|0.255|0.164 C|0.443|0.195...       0          2\n",
       "3                                  0 0 C|0.004|0.243       0          3\n",
       "4  -3 7 A|0.171|0.073 C|0.263|0.130 X|0.408|0.185...       0          4"
      ]
     },
     "execution_count": 35,
     "metadata": {},
     "output_type": "execute_result"
    }
   ],
   "source": [
    "s_exp.head()"
   ]
  },
  {
   "cell_type": "code",
   "execution_count": 36,
   "metadata": {},
   "outputs": [
    {
     "data": {
      "text/html": [
       "<div>\n",
       "<style scoped>\n",
       "    .dataframe tbody tr th:only-of-type {\n",
       "        vertical-align: middle;\n",
       "    }\n",
       "\n",
       "    .dataframe tbody tr th {\n",
       "        vertical-align: top;\n",
       "    }\n",
       "\n",
       "    .dataframe thead th {\n",
       "        text-align: right;\n",
       "    }\n",
       "</style>\n",
       "<table border=\"1\" class=\"dataframe\">\n",
       "  <thead>\n",
       "    <tr style=\"text-align: right;\">\n",
       "      <th></th>\n",
       "      <th>0</th>\n",
       "      <th>1</th>\n",
       "      <th>2</th>\n",
       "      <th>3</th>\n",
       "      <th>4</th>\n",
       "      <th>5</th>\n",
       "    </tr>\n",
       "  </thead>\n",
       "  <tbody>\n",
       "    <tr>\n",
       "      <th>0</th>\n",
       "      <td>2.0</td>\n",
       "      <td>0.125000</td>\n",
       "      <td>0.584635</td>\n",
       "      <td>4.0</td>\n",
       "      <td>0.0</td>\n",
       "      <td>0.0880</td>\n",
       "    </tr>\n",
       "    <tr>\n",
       "      <th>1</th>\n",
       "      <td>1.0</td>\n",
       "      <td>0.678385</td>\n",
       "      <td>-0.678385</td>\n",
       "      <td>0.0</td>\n",
       "      <td>0.0</td>\n",
       "      <td>0.1360</td>\n",
       "    </tr>\n",
       "    <tr>\n",
       "      <th>2</th>\n",
       "      <td>5.0</td>\n",
       "      <td>0.036458</td>\n",
       "      <td>-11.315104</td>\n",
       "      <td>1.5</td>\n",
       "      <td>1.0</td>\n",
       "      <td>0.3913</td>\n",
       "    </tr>\n",
       "    <tr>\n",
       "      <th>3</th>\n",
       "      <td>1.0</td>\n",
       "      <td>0.003906</td>\n",
       "      <td>-2.003906</td>\n",
       "      <td>0.0</td>\n",
       "      <td>0.0</td>\n",
       "      <td>0.1944</td>\n",
       "    </tr>\n",
       "    <tr>\n",
       "      <th>4</th>\n",
       "      <td>7.0</td>\n",
       "      <td>0.170573</td>\n",
       "      <td>-31.157552</td>\n",
       "      <td>4.0</td>\n",
       "      <td>2.0</td>\n",
       "      <td>0.5759</td>\n",
       "    </tr>\n",
       "  </tbody>\n",
       "</table>\n",
       "</div>"
      ],
      "text/plain": [
       "     0         1          2    3    4       5\n",
       "0  2.0  0.125000   0.584635  4.0  0.0  0.0880\n",
       "1  1.0  0.678385  -0.678385  0.0  0.0  0.1360\n",
       "2  5.0  0.036458 -11.315104  1.5  1.0  0.3913\n",
       "3  1.0  0.003906  -2.003906  0.0  0.0  0.1944\n",
       "4  7.0  0.170573 -31.157552  4.0  2.0  0.5759"
      ]
     },
     "execution_count": 36,
     "metadata": {},
     "output_type": "execute_result"
    }
   ],
   "source": [
    "features.head()"
   ]
  },
  {
   "cell_type": "code",
   "execution_count": 37,
   "metadata": {},
   "outputs": [],
   "source": [
    "s_exp.to_csv('%s/s_exp.csv'%end_directory)\n",
    "features.to_csv('%s/s_exp_features.csv'%end_directory)"
   ]
  }
 ],
 "metadata": {
  "kernelspec": {
   "display_name": "Python 3",
   "language": "python",
   "name": "python3"
  },
  "language_info": {
   "codemirror_mode": {
    "name": "ipython",
    "version": 3
   },
   "file_extension": ".py",
   "mimetype": "text/x-python",
   "name": "python",
   "nbconvert_exporter": "python",
   "pygments_lexer": "ipython3",
   "version": "3.6.2"
  }
 },
 "nbformat": 4,
 "nbformat_minor": 2
}

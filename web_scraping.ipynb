{
 "cells": [
  {
   "cell_type": "code",
   "execution_count": 11,
   "metadata": {},
   "outputs": [],
   "source": [
    "import urllib\n",
    "from bs4 import BeautifulSoup"
   ]
  },
  {
   "cell_type": "code",
   "execution_count": 37,
   "metadata": {},
   "outputs": [
    {
     "name": "stderr",
     "output_type": "stream",
     "text": [
      "/Users/Chelsea/anaconda3/lib/python3.6/site-packages/bs4/__init__.py:181: UserWarning: No parser was explicitly specified, so I'm using the best available HTML parser for this system (\"lxml\"). This usually isn't a problem, but if you run this code on another system, or in a different virtual environment, it may use a different parser and behave differently.\n",
      "\n",
      "The code that caused this warning is on line 193 of the file /Users/Chelsea/anaconda3/lib/python3.6/runpy.py. To get rid of this warning, change code that looks like this:\n",
      "\n",
      " BeautifulSoup(YOUR_MARKUP})\n",
      "\n",
      "to this:\n",
      "\n",
      " BeautifulSoup(YOUR_MARKUP, \"lxml\")\n",
      "\n",
      "  markup_type=markup_type))\n"
     ]
    },
    {
     "name": "stdout",
     "output_type": "stream",
     "text": [
      "[['Bb6G7', 'C-7F7', 'BbG-7', 'C-7F7', 'F-7Bb7', 'Eb7Ab7', 'D-7G7', 'C-7F7'], ['Bb6G7', 'C-7F7', 'BbG-7', 'C-7F7', 'F-7Bb7', 'Eb7Ab7', 'C-7F7', 'Bb6'], ['D7', 'D7', 'G7', 'G7', 'C7', 'C7', 'F7', 'F7'], ['BbG7', 'C-7F7', 'BbG-7', 'C-7F7', 'F-7Bb7', 'Eb7Ab7', 'C-7F7', 'Bb6']]\n",
      "[['Eb7', 'Ab7', 'Eb7', 'Eb7', 'Ab7', 'Ab7', 'Eb7', 'Eb7', 'F-7', 'Bb7', 'Eb7', 'Bb7']]\n",
      "[['Fj7', 'Fj7', 'G7alt', 'G7alt', 'G-7', 'C7', 'Am7b5', 'D79b', 'G-7', 'A79b', 'D7', 'D79b', 'G79b', 'G79b', 'Gbj7', 'Gbj7'], ['Fj7', 'Fj7', 'G7alt', 'G7alt', 'G-7', 'C7', 'Am7b5', 'D79b', 'G-7', 'Bb-', 'A-7', 'Bm7b5E79#'], ['Aj7', 'Bbo7', 'B-7', 'E7', 'Aj7', 'F#-7', 'B-7', 'E7'], ['Cj7', 'C#o7', 'D-7', 'G7', 'G-7', 'Am7b5D79b', 'G-7', 'C7alt']]\n",
      "[['F7', 'Bb7', 'Eb6', 'Eb6', 'Bb-7', 'Eb7', 'Abj7', 'Abj7', 'Ab6', 'Db7', 'Eb6', 'C7', 'F7', 'F7', 'Bb7', 'C7'], ['F7', 'Bb7', 'Eb6', 'Eb6', 'Bb-7', 'Eb7', 'Abj7', 'Abj7', 'Ab7', 'Ao7', 'Eb6', 'C7', 'F7', 'Bb7', 'Eb6', 'Eb6']]\n",
      "[['Ab6', 'Ab6', 'Ab-6', 'Ab-6Db7', 'EbF-7', 'G-7C7', 'F-7Eo7', 'F-7', 'Bb7Bbo', 'F-7Bb7', 'Ebj7', 'G-7C-7', 'F79', 'C-7F7', 'Bb7Bbsus7', 'Bbo7Bb7Eb+7'], ['Ab6', 'Ab6', 'Ab-6', 'Ab-6Db7', 'Eb', 'G-7C7', 'F-7Eo', 'F-7', 'Ab-7', 'Db7913', 'Ebj7C-7', 'G-7C7', 'F-7', 'Bb7', 'Eb6', 'Bb-7Eb7']]\n",
      "[['Ab6', 'Ab6', 'Ab-6', 'Db7', 'Ebj7', 'G-7C7', 'F-7', 'F-7', 'Ab-7', 'Db7', 'EbC-7', 'G-7C7', 'F-7', 'Bb7', 'Eb7', 'Ab7'], ['Eb7', 'Ab7', 'Eb7', 'Ab7', 'Eb7', 'Ab7', 'Eb7', 'Ab7', 'Eb7', 'Ab7', 'Eb7', 'Ab7', 'Eb7', 'Ab7', 'Eb7', 'Ab7', 'Eb7', 'Ab7', 'Eb7', 'Ab7', 'Eb7', 'Ab7', 'Eb7', 'Ab7', 'Eb7', 'Ab7', 'Eb7', 'Ab7', 'Eb7', 'Ab7', 'Eb7', 'Ab7', 'Eb7', 'Ab7', 'Eb7', 'Ab7', 'Eb7', 'Ab7', 'Eb7', 'Ab7', 'Eb7', 'Ab7', 'Eb7', 'Ab7', 'Eb7', 'Ab7', 'Eb7', 'Ab7', 'Eb7', 'Ab7', 'Eb7', 'Ab7', 'Eb7', 'Ab7', 'Eb7', 'Ab7', 'Eb7']]\n",
      "[['Dbj7', 'F-7Bb7', 'Eb7', 'Eb7', 'Eb-7', 'F7Bb7Eb7Ab7', 'Db6Bb-7', 'Eb-7Ab7'], ['Dbj7', 'Bb-7', 'Eb7', 'Eb7', 'Eb-7', 'F7Bb7Eb7Ab7', 'Db6', 'G7911#'], ['Gbj7', 'F#j7', 'Gb-6', 'B7', 'Dbj7B7', 'F-7Bb7', 'Eb-7', 'Ab7'], ['Dbj7', 'Bb-7', 'Eb7', 'Eb7', 'Eb-7', 'F7Bb7Eb7Ab7', 'Db6', 'Eb-7Ab7'], ['Gbj7', 'Gbj7', 'Gb-6', 'B7', 'Dbj7B7', 'F-7Bb7', 'Eb-7', 'Ab7'], ['Dbj7', 'Bb-7', 'Eb7', 'Eb7', 'Eb-7', 'F7Bb7Eb7Ab7', 'Eb-7Ab7', 'Dbj7', 'Dbj7', 'Dbj7']]\n",
      "[['Cj7', 'E-7A7', 'D-7G7', 'Cj7'], ['Cj7', 'E-7A7', 'D-7', 'G7'], ['C7', 'C7', 'F7', 'Bb7'], ['Cj7', 'E-7A7', 'D-7G7', 'Cj7']]\n",
      "[['Cj7', 'E-7A7', 'D-G7', 'Cj7G7'], ['Cj7', 'E-7A7', 'D-7', 'G7'], ['C7', 'C7', 'F7', 'Bb7'], ['Cj7', 'E-7A7', 'D-7G7', 'Cj7']]\n",
      "[['Bbj7', 'Bbj7', 'Bb-7', 'Eb7', 'Fj7', 'Fj7', 'Ab-7', 'Db7', 'G-7', 'C7', 'A-7', 'D-7', 'G7', 'G7', 'G-7', 'C7B7'], ['Bbj7', 'Bbj7', 'Bb-7', 'Eb7', 'Fj7', 'Fj7', 'Ab-7', 'Db7', 'G-7', 'C7', 'Em7b5A7', 'D-7', 'G7', 'G-7C7', 'F6', 'C-7F7']]\n",
      "[['F6D-7', 'G-7C7', 'Fj7', 'G-7C7', 'F6', 'G-7C7', 'A-7D7', 'G-7C7'], ['Ab6', 'Bb-7Eb7', 'Abj7', 'G7', 'Cj7', 'A-7D7', 'G-7', 'C7'], ['F6D-7', 'G-7C7', 'Fj7', 'G-7C7', 'F6', 'G-7C7', 'A-7D7', 'G-7C7'], ['C-7', 'F7', 'Bbj7', 'Eb7', 'F6D-7', 'G-7C7', 'F6', 'G-7C7', 'C7']]\n",
      "[['F6D-7', 'G-7C7', 'Fj7D-7', 'G-7C7', 'F6', 'G-7C7', 'F6D7', 'G-7C7'], ['Ab6F-7', 'Bb-7Eb7', 'Abj7', 'G7', 'Cj7', 'A-7', 'G-7', 'C7'], ['F6D-7', 'G-7C7', 'Fj7D-7', 'G-7C7', 'F6D-7', 'G-7C7', 'F6D7', 'G-7C7'], ['C-7', 'F7', 'Bbj7', 'Bb-6Eb7', 'F6/AAbo7', 'G-7C7', 'F6', 'G-7C7', 'F6/AAbo7', 'G-7C7', 'F6', 'F6', 'F6', 'F6']]\n",
      "[['Gj7F7E7', 'A-7D7Ebo', 'E-7D-7G7', 'C7B7', 'E7A7', 'A-7D7', 'Gj7F7E7', 'A7D7'], ['Gj7F7E7', 'A-7D7Ebo', 'E-7D-7G7', 'C7B7', 'E7A7', 'A-7D7', 'G6C7Dbo', 'G6/DG7Db7'], ['Cj7Bm7b5E7', 'A-7Ab7G-7C7', 'F7E7', 'A-7Ab7G-7C7', 'F7E7', 'Eb7911#D7', 'F7E7', 'Eb7911#D7'], ['Gj7F7E7', 'A-7D7Ebo', 'E-7D-7G7', 'C7B7', 'E7A7', 'A-7D7', 'G6F7E7', 'A7D7']]\n",
      "[['Bb7', 'Bb7', 'Bb7', 'Bb7', 'Eb', 'Eb', 'Eb', 'Eb', 'Bb7', 'Bb7', 'Bb7', 'Bb7', 'Eb', 'Eb', 'Eb', 'Eb'], ['C7', 'C7', 'C7', 'C7', 'F-7', 'F-7', 'Ab-7', 'Ab-7', 'Eb', 'Eb', 'C7', 'C7', 'F-7', 'Bb7', 'Eb', 'Eb']]\n",
      "[['EbF-7', 'Eb6Gbo', 'F-F-7', 'F-6Gbo', 'F-F-7', 'F-6Bb7', 'EbC-7', 'F-7Bb7'], ['EbF-7', 'Eb6Gbo', 'F-F-7', 'F-6Gbo', 'F-F-7', 'F-6Bb7', 'EbBbm7b5', 'EbD7'], []]\n",
      "[['Ab', 'Ab', 'F7', 'F7', 'F-7', 'F-7', 'Bb7', 'Bb7', 'Eb', 'Eb', 'C7', 'C7', 'Ab', 'Ab', 'Eb7', 'Eb7'], ['Ab', 'Ab', 'F7', 'F7', 'Bb7', 'Bb7', 'Bb7', 'Bb7', 'F-', 'F-', 'Eo', 'Eo', 'Ab', 'Ab', 'Bb-', 'Eb7', 'Ab', 'AbC7', 'F7', 'F7', 'Bb7', 'Eb7', 'Ab', 'Ab', 'Ab', 'Ab']]\n",
      "[['Bb', 'Bb', 'Bb7', 'Bb7', 'Eb', 'Eb', 'Bb', 'Bb', 'F7', 'C-6D7', 'G-', 'Bb-6', 'F', 'C7', 'F7', 'F7'], ['Bb', 'Bb', 'Bb7', 'Bb7', 'Eb', 'Eb', 'D7', 'D7G7', 'C7', 'F7', 'Bb', 'Bb', 'F7', 'F7', 'Bb', 'Bb'], ['NC']]\n",
      "[['Ab', 'Ab', 'Ab', 'Ab', 'Ab', 'Ab', 'Eb7', 'Eb7', 'Eb7', 'Eb7', 'Eb7', 'Eb7', 'Eb7', 'Eb7', 'Ab', 'Ab'], ['Ab', 'Ab', 'Ab', 'Ab', 'Ab7', 'Ab7', 'Db', 'Db', 'Db', 'Db-', 'Ab', 'F7', 'Bb7', 'Eb7', 'Ab', 'Ab', 'Ab', 'Ab']]\n",
      "[['Ab', 'Ab', 'Ab', 'Ab', 'Ab', 'Ab', 'Eb7', 'Eb7', 'Eb7', 'Eb7', 'Eb7', 'Eb7', 'Eb7', 'Eb7', 'Ab', 'Ab'], ['Ab', 'Ab', 'Ab', 'Ab', 'Ab7', 'Ab7', 'Db', 'Db', 'Db', 'Db-', 'Ab', 'F7', 'Bb7', 'Eb7', 'Ab', 'Ab', 'Db', 'Db-', 'Ab', 'F7', 'Bb7', 'Eb7', 'Ab', 'Ab', 'Ab']]\n",
      "[['Eb', 'Eb', 'D7', 'D7', 'Eb', 'Eb', 'C+7', 'C7', 'F7', 'F7', 'Bb7', 'Bb7', 'Eb', 'Eb', 'Bb7', 'Bb+7'], ['Eb', 'Eb', 'D7', 'D7', 'Eb', 'Eb', 'C+7', 'C7', 'F7', 'F7', 'Bb7', 'Bb7', 'F-7', 'Bb7', 'Eb', 'F-7Bb7'], ['Eb', 'Eb']]\n",
      "[['Gj7', 'Gj7', 'Gj7', 'Gj7', 'Gj7', 'Bbo', 'A-7', 'D7', 'A-7', 'D7', 'A-7', 'D7', 'A-7', 'D7', 'Gj7', 'Gj7'], ['G7', 'G7', 'Bm7b5', 'E7', 'A-7', 'A-7', 'C-7F7', 'A-7D7', 'Gj7', 'Gj7', 'Bm7b5', 'E7', 'A-7', 'D7', 'Gj7', 'Gj7']]\n",
      "[['Bb7', 'Eb7', 'Ab6', 'Ab6', 'Eb-7', 'Ab7', 'Db6', 'Db6', 'Db7', 'Do', 'Ab6', 'F7', 'Bb7', 'Bb7', 'Bb-7', 'Eb7']]\n",
      "[['Bbj7G7', 'C-7', 'Ab7G7', 'C7', 'C-7F7', 'Am7b5D7', 'G-7C7', 'Gb7F7'], ['Bbj7G7', 'C-7', 'Ab7G7', 'C7', 'C-7Db-7', 'Bbj7Ebj7G-7C7', 'Gb7F7', 'Bb6']]\n",
      "[['Em7b5', 'A7', 'Dj7', 'Dj7', 'Em7b5', 'A7', 'Dj7', 'Dj7'], ['G#m7b5', 'G-7', 'F#-7', 'Fo', 'E-7', 'A7', 'Dj7', 'Dj7'], ['Em7b5', 'A7', 'Dj7', 'Dj7', 'Em7b5', 'A7', 'Dj7', 'Dj7'], ['G#m7b5', 'G-7', 'F#-7', 'Fo', 'E-7', 'A7', 'Dj7', 'C7'], ['Fj7', 'Fj7', 'Dj7', 'Dj7', 'Fj7', 'Fj7', 'Dj7', 'Dj7'], ['G#m7b5', 'G-7', 'F#-7', 'Fo', 'E-7', 'A7', 'D6', 'E7A7']]\n",
      "[['Abj7', 'Abj7', 'Abo7', 'Abj7', 'Dbj7', 'Dbj7', 'Dbj7', 'Bb-7Ebsus79', 'D7F7', 'Bb7Eb7'], ['Abj7', 'Abj7', 'Abo7', 'Abj7', 'Dbj7', 'Dbj7', 'Dbj7', 'Bb-7Ebsus79', 'G-7', 'C7'], ['F-7', 'Bb7', 'G-7', 'C7', 'F-7', 'Bb7', 'Bb7E7911#', 'Eb7'], ['Abj7', 'D-7G7', 'Db7911#C7', 'F-7', 'Bb-7', 'C-7F7', 'Bb-7', 'F7', 'Bb-7', 'Eb7', 'Ab69', 'Ab69'], ['NC']]\n",
      "[['FAbo', 'F6Bbj7A-7D-7', 'D7G7', 'C7F7', 'BbA7', 'G7C7', 'F7G-7', 'C7G-7EboC7'], ['FAbo', 'F', 'A-', 'A-', 'Bm7b5E7', 'Am7b5D7', 'Gbj7C7', 'F7F'], ['Bb6G-7', 'G-7D-', 'D-6', 'CD7', 'G-7', 'G7C7', 'F7G-7', 'F']]\n",
      "[['Eb', 'Eb', 'Eb', 'Eb7', 'Ab', 'Ab', 'G7', 'G7', 'Eb', 'Eb', 'EbEb7D7Db7', 'C7', 'F-7', 'Bb7', 'Eb', 'Bb7'], ['Eb']]\n",
      "[['Ab', 'AbAo', 'Eb7', 'Eb7', 'Ab', 'AbAo', 'Eb7', 'Eb7', 'Ab', 'Ab7', 'Db', 'Db7C7B7', 'Bb7', 'Bb7', 'Eb7NC', 'NC'], ['Ab', 'AbAo', 'Eb7', 'Eb7', 'Ab7', 'Ab7', 'Db', 'Db', 'Db-', 'Db-', 'Ab', 'F7', 'Bb7', 'Eb7', 'Ab']]\n",
      "[['Bb', 'Bb', 'Bb', 'Bb', 'Eb', 'Eb', 'Bb', 'G7', 'C-7', 'F7', 'Bb', 'Bb', 'NC']]\n",
      "[['F-7', 'F-7Bb7', 'Eb', 'EbAbEbEbo', 'Bb7', 'Bb7', 'Eb', 'EbEboEb'], ['G7D-7', 'G7CoFo', 'C7', 'C7', 'C-C-7', 'F7', 'Bb7', 'Bb7Ebo'], ['F-7', 'F-7Bb7', 'Eb', 'EbFoEbo', 'Eo', 'EoC7', 'F-C7', 'F-C7F-', 'F-7', 'Ebo', 'Eb', 'EoC7', 'F7', 'F7Bb7', 'Eb', 'Eb']]\n",
      "[['Abj7', 'Abj7', 'Abj7', 'Abj7', 'C-7', 'C-7', 'C-7', 'C-7', 'Db7', 'Db7', 'Db7', 'Db7', 'Eb7', 'Eb7', 'Eb7', 'Eb7'], ['Abj7', 'Abj7', 'Abj7', 'Abj7', 'C-7', 'C-7', 'C-7', 'C-7', 'Db7', 'Db7', 'Db7', 'Db7', 'Eb7', 'Eb7', 'Eb7', 'Eb7'], ['F-7', 'F-7', 'F-7', 'F-7', 'Db7911#', 'Db7911#', 'Db7911#', 'Db7911#', 'G79#', 'G79#', 'G79#', 'G79#', 'D7alt', 'D7alt', 'D7alt', 'D7alt']]\n",
      "[['C-7', 'C-7', 'C-7', 'C-7', 'F-7', 'F-7', 'C-7', 'C-7', 'Ab7', 'G7', 'C-7', 'G7']]\n",
      "[['E-7A7', 'D-7Bm7b5', 'E-7A7', 'D-7G7', 'G-7C7', 'D-', 'Bbj7A-7', 'G-7F-7'], ['E-7A7', 'D-7Bm7b5', 'E-7A7', 'D-7G7', 'G-7C7', 'D-', 'Bbj7A-7', 'G-7C7'], ['F6D-7', 'Em7b5', 'A7', 'D-7C-7F7', 'Bbj7A+7', 'D-7', 'Gsus79G7913', 'G-7F-7'], ['E-7A7', 'D-7Bm7b5', 'E-7A7', 'D-7G7', 'G-7C7', 'D-', 'Bbj7A-7', 'Bb-7Eb7', 'A-7D7', 'G-7Csus7', 'F6', 'F6']]\n",
      "[['Fsus']]\n",
      "[['BbG7', 'C-7F+7', 'BbG7', 'C-7F+7', 'F-7Bb7', 'Ebj7Eo', 'D-7G+7', 'C-7F+7'], ['BbG7', 'C-7F+7', 'BbG7', 'C-7F+7', 'F-7Bb7', 'Ebj7Eo', 'C-7F7', 'Bb'], ['D7', 'D7', 'G7', 'G7', 'C7', 'C7', 'F7', 'F7'], ['BbG7', 'C-7F+7', 'BbG7', 'C-7F+7', 'F-7Bb7', 'Ebj7Eo', 'C-7F7', 'Bb']]\n"
     ]
    },
    {
     "name": "stdout",
     "output_type": "stream",
     "text": [
      "[['Bb', 'Bb', 'Bb', 'Bb', 'Db', 'Eb', 'Bb', 'Bb'], ['Gb7911#', 'Ab', 'Bb', 'Bb']]\n",
      "[['C-69', 'Dm7b5G7', 'Gm7b5C79b', 'F-6', 'Dm7b5', 'G79b', 'Cj7', 'Dm7b5G7'], ['C-69', 'Dm7b5G7', 'Gm7b5C79b', 'F-6', 'Dm7b5', 'G79b', 'Cj7', 'C7'], ['Ab7', 'Am7b5D79b', 'G7', 'G7', 'Ab7', 'Am7b5D79b', 'G7Ab7', 'G7Db7911#'], ['C-69', 'Dm7b5G7', 'Gm7b5C79b', 'F-6', 'Dm7b5G79b', 'C-7Am7b5', 'Ab7G7', 'C-69']]\n",
      "[['Db7', 'Gb7', 'Db7', 'Db7', 'Gb7', 'Gb7', 'Db7C7', 'F-7Bb7', 'Eb-7', 'Ab7', 'Db7', 'Eb-7Ab7']]\n",
      "[['F7', 'Bb7', 'F7', 'F7', 'Bb7', 'Bb7', 'F7', 'A-7D7', 'G-7', 'C7', 'F7D7', 'G-7C7']]\n",
      "[['F7', 'Bb7', 'F7', 'F7', 'Bb7', 'Bb7', 'F7', 'A-7D7', 'G-7', 'C7', 'F7D7', 'G-7C7']]\n",
      "[['Dj7', 'A-7Dsus7', 'Gj7', 'Go7', 'F#-7B7', 'E-7A7', 'F#-7B7', 'E-7A7'], ['Dj7', 'A-7Dsus7', 'Gj7', 'Go7', 'F#-7B7', 'E-7A7', 'Dj7C7', 'D6'], ['E-7', 'A7', 'Dj7', 'A-7D7', 'Gj7', 'F#m7b5B7', 'E7', 'E-7A7'], ['Dj7', 'A-7Dsus7', 'Gj7', 'Go7', 'F#-7B7', 'E-7A7', 'Dj7B-7', 'E-7A7']]\n",
      "[['Cj7', 'Cj7', 'Cj7', 'Eb-7Ab79', 'D-7', 'G7', 'D-7', 'G7'], ['Cj7', 'Cj7', 'Cj7', 'Eb-7Ab79', 'D-7', 'G7', 'D-7', 'G7'], ['G-7', 'G-7', 'Csus79', 'C7', 'Fj7', 'Fj7', 'Bb7A7', 'Ab7G7'], ['Cj7', 'Cj7', 'Cj7', 'Eb-7Ab79', 'D-7', 'G7', 'C6', 'D-7G7']]\n",
      "[['Fm7b5', 'Bb79b', 'Eb-7', 'Ab7', 'Dbo7Db6', 'Dbj7', 'Db-7', 'Gb7'], ['Fm7b5', 'Bb79b', 'Eb-7', 'Ab7', 'Dbo7Db6', 'Dbj7', 'Ab-7Db7', 'Ab-7Db7'], ['Gm7b5', 'C79b', 'Fj7', 'Fj7', 'Abm7b5', 'Db79b', 'Gb-', 'Ab7'], ['Fm7b5', 'Bb79b', 'Eb-7', 'Ab7', 'Dbo7', 'Db6', 'Dbo7', 'Db6']]\n",
      "[['DbBb7', 'Eb-7Ab7', 'DbBb-7', 'Eb-7Ab7', 'DbDb7', 'Gb7Gb-', 'DbBb-7', 'Eb-7Ab7'], ['DbBb7', 'Eb-7Ab7', 'DbBb-7', 'Eb-7Ab7', 'DbDb7', 'GbGb-', 'DbBb-7', 'Eb-7Ab7'], ['C7', 'C7', 'F7', 'F7', 'Bb7', 'Bb7', 'Eb7', 'Ab7'], ['DbBb7', 'Eb-7Ab7', 'DbBb-7', 'Eb-7Ab7', 'DbDb7', 'GbGb-', 'DbBb-7', 'Eb-7Ab7'], ['NC']]\n",
      "[['C', 'C', 'G7', 'C', 'C', 'C', 'G7', 'C'], ['C', 'C', 'G7', 'C', 'C', 'C', 'G7', 'C'], ['C7', 'C7', 'F7', 'F7', 'Bb7', 'Bb7', 'Ab7', 'G7'], ['C', 'G7', 'G7', 'C', 'C', 'C', 'G7', 'C']]\n",
      "[['C-C-/Bb', 'AbG7', 'C-C-/Bb', 'AbG7', 'C-C-/Bb', 'AbG7', 'C-C-/Bb', 'AbG7'], ['C-C-/Bb', 'AbG7', 'C-C-/Bb', 'AbG7', 'C-C-/Bb', 'AbG7', 'C-C-/Bb', 'AbG7'], ['C7', 'C7', 'F7', 'F7', 'Bb7', 'Bb7', 'Eb7', 'D-G7'], ['C-C-/Bb', 'AbG7', 'C-C-/Bb', 'AbG7', 'C-C-/Bb', 'AbG7', 'C-C-/Bb', 'AbG7'], ['C-C-/Bb', 'AbG7']]\n",
      "[['D-7', 'G7', 'Cj7F7', 'E-7A-7', 'C-7', 'F7', 'Bb7', 'B7'], ['D-7', 'G7', 'Cj7F7', 'E-7A-7', 'C-7', 'B7', 'Dm7b5', 'G79b'], ['Cm7b5', 'F7', 'D-7', 'G79b', 'Cm7b5', 'F7', 'E-7A-7', 'Eb-7Ab-7'], ['D-7', 'G7', 'Cj7F7', 'E-7A-7', 'C-7', 'F7', 'Bb6', 'B7913']]\n",
      "[['D-7', 'D-7', 'D-7', 'D-7', 'D-7', 'D-7', 'D-7', 'D-7'], ['D-7', 'D-7', 'D-7', 'D-7', 'D-7', 'D-7', 'D-7', 'D-7'], ['Eb-7', 'Eb-7', 'Eb-7', 'Eb-7', 'Eb-7', 'Eb-7', 'Eb-7', 'Eb-7'], ['D-7', 'D-7', 'D-7', 'D-7', 'D-7', 'D-7', 'D-7', 'D-7']]\n",
      "[['Ebj7', 'F-Bb7', 'Ebj7', 'Eb-Ab7', 'Dbj7', 'GoC7', 'Fj7', 'FoBb7'], ['Ebj7', 'F-Bb7', 'Ebj7', 'Eb-Ab7', 'Dbj7', 'GoC7', 'Fj7', 'Bb79Eb7'], ['Abj7', 'Abj7', 'Ab-', 'Db7', 'Gbj7', 'Gbj7', 'F-', 'Bb7'], ['Ebj7', 'F-Bb7', 'Ebj7', 'Eb-Ab7', 'Dbj7', 'GoC7', 'Fj7', 'Bb79', 'Eb7D7', 'C7F-', 'Bb7Ebj7', 'Bb7']]\n"
     ]
    }
   ],
   "source": [
    "for x in range(1, 50): \n",
    "    page = urllib.request.urlopen(\"http://jazzomat.hfm-weimar.de/dbformat/synopsis/solo\" + str(x) + \".html\").read()\n",
    "    soup = BeautifulSoup(page)\n",
    "    text = soup.get_text()\n",
    "    # text = text.replace(\" \",\"\")\n",
    "    split = text.splitlines()\n",
    "\n",
    "    chords = []\n",
    "\n",
    "    for i in range(len(split)):\n",
    "        if split[i] == ' Chord changes of solo:':\n",
    "            while split[i + 1] != \"\":\n",
    "                chords.append(split[i + 1].replace(\" \",\"\"))\n",
    "                i += 1\n",
    "\n",
    "    split_chords = []\n",
    "\n",
    "    for s in chords:\n",
    "        split_chords.append(s.split(\"|\"))\n",
    "\n",
    "    final = []\n",
    "\n",
    "    for i in split_chords:\n",
    "        j = i[2:-2]\n",
    "        final.append(j)\n",
    "\n",
    "    print(final)\n"
   ]
  },
  {
   "cell_type": "code",
   "execution_count": null,
   "metadata": {
    "collapsed": true
   },
   "outputs": [],
   "source": []
  }
 ],
 "metadata": {
  "kernelspec": {
   "display_name": "Python 3",
   "language": "python",
   "name": "python3"
  },
  "language_info": {
   "codemirror_mode": {
    "name": "ipython",
    "version": 3
   },
   "file_extension": ".py",
   "mimetype": "text/x-python",
   "name": "python",
   "nbconvert_exporter": "python",
   "pygments_lexer": "ipython3",
   "version": "3.6.1"
  }
 },
 "nbformat": 4,
 "nbformat_minor": 2
}

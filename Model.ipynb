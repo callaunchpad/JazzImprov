{
 "cells": [
  {
   "cell_type": "code",
   "execution_count": 9,
   "metadata": {
    "collapsed": false
   },
   "outputs": [],
   "source": [
    "from sklearn.cluster import KMeans\n",
    "import numpy as np"
   ]
  },
  {
   "cell_type": "code",
   "execution_count": 10,
   "metadata": {
    "collapsed": false
   },
   "outputs": [
    {
     "data": {
      "text/plain": [
       "array([[25.  ,  2.  ,  4.25,  3.  ],\n",
       "       [21.  ,  3.  ,  1.  ,  2.  ],\n",
       "       [17.  ,  4.  ,  3.25, -3.  ],\n",
       "       [22.  ,  5.  ,  6.75, -4.  ]])"
      ]
     },
     "execution_count": 10,
     "metadata": {},
     "output_type": "execute_result"
    }
   ],
   "source": [
    "cluster_info = np.loadtxt(open(\"test_files/test.csv\", \"r\"), delimiter=\",\", skiprows=1)\n",
    "cluster_info"
   ]
  },
  {
   "cell_type": "code",
   "execution_count": 11,
   "metadata": {
    "collapsed": false
   },
   "outputs": [
    {
     "name": "stdout",
     "output_type": "stream",
     "text": [
      "2\n"
     ]
    }
   ],
   "source": [
    "k_size = int(len(cluster_info)/2)\n",
    "print(k_size)\n",
    "kmeans = KMeans(n_clusters=k_size).fit(cluster_info)"
   ]
  },
  {
   "cell_type": "code",
   "execution_count": 12,
   "metadata": {
    "collapsed": false
   },
   "outputs": [
    {
     "data": {
      "text/plain": [
       "array([0, 0, 1, 1], dtype=int32)"
      ]
     },
     "execution_count": 12,
     "metadata": {},
     "output_type": "execute_result"
    }
   ],
   "source": [
    "kmeans.labels_"
   ]
  },
  {
   "cell_type": "code",
   "execution_count": 13,
   "metadata": {
    "collapsed": true
   },
   "outputs": [],
   "source": [
    "#kmeans.predict(fill in with our own 7 unit vector data), will classify it into cluster"
   ]
  },
  {
   "cell_type": "code",
   "execution_count": 14,
   "metadata": {
    "collapsed": true
   },
   "outputs": [],
   "source": [
    "class Node:\n",
    "    def __init__(self, node_num):\n",
    "        self.node_num = node_num\n",
    "        self.s_exp = []\n",
    "        self.cpt = 0\n",
    "    \n",
    "    def add_exp(self, s):\n",
    "        self.s_exp.append(s)"
   ]
  },
  {
   "cell_type": "code",
   "execution_count": 15,
   "metadata": {
    "collapsed": false
   },
   "outputs": [
    {
     "name": "stdout",
     "output_type": "stream",
     "text": [
      "{'0': 'asdf', '1': 'fghh', '2': 'dfgj', '3': 'sdfw'}\n"
     ]
    }
   ],
   "source": [
    "s_exp_dict = {}\n",
    "\n",
    "s_exp_labels = np.loadtxt(open(\"test_files/test_exp.csv\", \"r\"), dtype=\"str\", delimiter=\",\", skiprows=1)\n",
    "\n",
    "for expression in s_exp_labels:\n",
    "    s_exp_dict[expression[0]] = expression[1]\n",
    "\n",
    "print(s_exp_dict)"
   ]
  },
  {
   "cell_type": "code",
   "execution_count": 16,
   "metadata": {
    "collapsed": false
   },
   "outputs": [],
   "source": [
    "node_objects = []\n",
    "\n",
    "for cluster_num in range(k_size):\n",
    "    node_objects.append(Node(cluster_num))\n",
    "    \n",
    "for i in range(0,len(kmeans.labels_)):\n",
    "    cluster_num = kmeans.labels_[i]\n",
    "    node_objects[cluster_num].add_exp(s_exp_dict[str(i)])\n",
    "    "
   ]
  },
  {
   "cell_type": "code",
   "execution_count": null,
   "metadata": {
    "collapsed": true
   },
   "outputs": [],
   "source": []
  }
 ],
 "metadata": {
  "kernelspec": {
   "display_name": "Python 3",
   "language": "python",
   "name": "python3"
  },
  "language_info": {
   "codemirror_mode": {
    "name": "ipython",
    "version": 3
   },
   "file_extension": ".py",
   "mimetype": "text/x-python",
   "name": "python",
   "nbconvert_exporter": "python",
   "pygments_lexer": "ipython3",
   "version": "3.6.0"
  }
 },
 "nbformat": 4,
 "nbformat_minor": 2
}

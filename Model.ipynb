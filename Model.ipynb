{
 "cells": [
  {
   "cell_type": "code",
   "execution_count": 1,
   "metadata": {
    "collapsed": true,
    "scrolled": true
   },
   "outputs": [],
   "source": [
    "from sklearn.cluster import KMeans\n",
    "import numpy as np\n",
    "import pandas as pd\n",
    "import random"
   ]
  },
  {
   "cell_type": "code",
   "execution_count": 2,
   "metadata": {},
   "outputs": [
    {
     "data": {
      "text/html": [
       "<div>\n",
       "<style>\n",
       "    .dataframe thead tr:only-child th {\n",
       "        text-align: right;\n",
       "    }\n",
       "\n",
       "    .dataframe thead th {\n",
       "        text-align: left;\n",
       "    }\n",
       "\n",
       "    .dataframe tbody tr th {\n",
       "        vertical-align: top;\n",
       "    }\n",
       "</style>\n",
       "<table border=\"1\" class=\"dataframe\">\n",
       "  <thead>\n",
       "    <tr style=\"text-align: right;\">\n",
       "      <th></th>\n",
       "      <th>0</th>\n",
       "      <th>1</th>\n",
       "      <th>2</th>\n",
       "      <th>3</th>\n",
       "      <th>4</th>\n",
       "      <th>5</th>\n",
       "    </tr>\n",
       "  </thead>\n",
       "  <tbody>\n",
       "    <tr>\n",
       "      <th>0</th>\n",
       "      <td>2.0</td>\n",
       "      <td>0.125000</td>\n",
       "      <td>0.584635</td>\n",
       "      <td>4.0</td>\n",
       "      <td>0.0</td>\n",
       "      <td>0.0415</td>\n",
       "    </tr>\n",
       "    <tr>\n",
       "      <th>1</th>\n",
       "      <td>1.0</td>\n",
       "      <td>0.678385</td>\n",
       "      <td>-0.678385</td>\n",
       "      <td>0.0</td>\n",
       "      <td>0.0</td>\n",
       "      <td>0.4068</td>\n",
       "    </tr>\n",
       "    <tr>\n",
       "      <th>2</th>\n",
       "      <td>5.0</td>\n",
       "      <td>0.036458</td>\n",
       "      <td>-11.315104</td>\n",
       "      <td>1.5</td>\n",
       "      <td>1.0</td>\n",
       "      <td>1.5536</td>\n",
       "    </tr>\n",
       "    <tr>\n",
       "      <th>3</th>\n",
       "      <td>1.0</td>\n",
       "      <td>0.003906</td>\n",
       "      <td>-2.003906</td>\n",
       "      <td>0.0</td>\n",
       "      <td>0.0</td>\n",
       "      <td>0.0004</td>\n",
       "    </tr>\n",
       "    <tr>\n",
       "      <th>4</th>\n",
       "      <td>7.0</td>\n",
       "      <td>0.170573</td>\n",
       "      <td>-31.157552</td>\n",
       "      <td>4.0</td>\n",
       "      <td>2.0</td>\n",
       "      <td>1.5620</td>\n",
       "    </tr>\n",
       "  </tbody>\n",
       "</table>\n",
       "</div>"
      ],
      "text/plain": [
       "     0         1          2    3    4       5\n",
       "0  2.0  0.125000   0.584635  4.0  0.0  0.0415\n",
       "1  1.0  0.678385  -0.678385  0.0  0.0  0.4068\n",
       "2  5.0  0.036458 -11.315104  1.5  1.0  1.5536\n",
       "3  1.0  0.003906  -2.003906  0.0  0.0  0.0004\n",
       "4  7.0  0.170573 -31.157552  4.0  2.0  1.5620"
      ]
     },
     "execution_count": 2,
     "metadata": {},
     "output_type": "execute_result"
    }
   ],
   "source": [
    "#get data from grammar's csv file of a single type format\n",
    "s_exp_features = pd.read_csv(\"test_files/s_exp_features_test.csv\", index_col = 0)\n",
    "s_exp_features.head()"
   ]
  },
  {
   "cell_type": "code",
   "execution_count": 3,
   "metadata": {},
   "outputs": [
    {
     "name": "stdout",
     "output_type": "stream",
     "text": [
      "23\n"
     ]
    }
   ],
   "source": [
    "k_size = int(len(s_exp_features) / 4) #k_size is arbitrarily set, equal to the number of clusters\n",
    "print(k_size)\n",
    "kmeans = KMeans(n_clusters=k_size).fit(s_exp_features)"
   ]
  },
  {
   "cell_type": "code",
   "execution_count": 4,
   "metadata": {},
   "outputs": [
    {
     "data": {
      "text/plain": [
       "array([ 6,  6,  6,  6,  9,  9,  9,  9, 17,  9,  0, 17,  9, 21, 17,  9, 18,\n",
       "       14, 21, 17, 19, 18, 14,  0,  8,  8,  7, 14,  3,  8,  9, 14, 12,  9,\n",
       "       13,  7, 13, 19, 12, 15, 21,  7, 15, 14, 12, 21, 12, 16, 13, 17, 18,\n",
       "        5,  1,  1, 12,  1, 19, 20, 20,  3,  5,  5,  8,  7, 11,  0, 20, 16,\n",
       "        0, 20, 15, 15,  4, 22, 12, 12,  0, 11, 12,  0,  5,  7, 18,  7,  2,\n",
       "        2,  2,  1,  1,  1, 14, 10])"
      ]
     },
     "execution_count": 4,
     "metadata": {},
     "output_type": "execute_result"
    }
   ],
   "source": [
    "#outputs which cluster number the data point is placed into\n",
    "kmeans.labels_"
   ]
  },
  {
   "cell_type": "code",
   "execution_count": 5,
   "metadata": {
    "collapsed": true
   },
   "outputs": [],
   "source": [
    "#kmeans.predict(fill in with our own 7 unit vector data), will classify it into cluster"
   ]
  },
  {
   "cell_type": "code",
   "execution_count": 6,
   "metadata": {
    "collapsed": true
   },
   "outputs": [],
   "source": [
    "class Node:\n",
    "    def __init__(self, node_num):\n",
    "        self.node_num = node_num\n",
    "        self.s_exp = [] #list of s-exp-ids\n",
    "        self.cpt = {} #maps from node_num to conditional probability\n",
    "    \n",
    "    def add_exp(self, s):\n",
    "        self.s_exp.append(s)"
   ]
  },
  {
   "cell_type": "code",
   "execution_count": 7,
   "metadata": {},
   "outputs": [
    {
     "data": {
      "text/html": [
       "<div>\n",
       "<style>\n",
       "    .dataframe thead tr:only-child th {\n",
       "        text-align: right;\n",
       "    }\n",
       "\n",
       "    .dataframe thead th {\n",
       "        text-align: left;\n",
       "    }\n",
       "\n",
       "    .dataframe tbody tr th {\n",
       "        vertical-align: top;\n",
       "    }\n",
       "</style>\n",
       "<table border=\"1\" class=\"dataframe\">\n",
       "  <thead>\n",
       "    <tr style=\"text-align: right;\">\n",
       "      <th></th>\n",
       "      <th>exp</th>\n",
       "      <th>song_id</th>\n",
       "      <th>song_index</th>\n",
       "    </tr>\n",
       "  </thead>\n",
       "  <tbody>\n",
       "    <tr>\n",
       "      <th>0</th>\n",
       "      <td>0 4 C|0.155|0.125 H|0.725|0.290</td>\n",
       "      <td>0</td>\n",
       "      <td>0</td>\n",
       "    </tr>\n",
       "    <tr>\n",
       "      <th>1</th>\n",
       "      <td>0 0 H|0.340|0.678</td>\n",
       "      <td>0</td>\n",
       "      <td>1</td>\n",
       "    </tr>\n",
       "    <tr>\n",
       "      <th>2</th>\n",
       "      <td>-3 0 R|0.174|0.036 R|0.164|0.255 R|0.195|0.443...</td>\n",
       "      <td>0</td>\n",
       "      <td>2</td>\n",
       "    </tr>\n",
       "    <tr>\n",
       "      <th>3</th>\n",
       "      <td>0 0 R|0.243|0.004</td>\n",
       "      <td>0</td>\n",
       "      <td>3</td>\n",
       "    </tr>\n",
       "    <tr>\n",
       "      <th>4</th>\n",
       "      <td>-3 7 C|0.073|0.171 C|0.130|0.263 C|0.185|0.408...</td>\n",
       "      <td>0</td>\n",
       "      <td>4</td>\n",
       "    </tr>\n",
       "  </tbody>\n",
       "</table>\n",
       "</div>"
      ],
      "text/plain": [
       "                                                 exp  song_id  song_index\n",
       "0                   0 4 C|0.155|0.125 H|0.725|0.290         0           0\n",
       "1                                 0 0 H|0.340|0.678         0           1\n",
       "2  -3 0 R|0.174|0.036 R|0.164|0.255 R|0.195|0.443...        0           2\n",
       "3                                 0 0 R|0.243|0.004         0           3\n",
       "4  -3 7 C|0.073|0.171 C|0.130|0.263 C|0.185|0.408...        0           4"
      ]
     },
     "execution_count": 7,
     "metadata": {},
     "output_type": "execute_result"
    }
   ],
   "source": [
    "#assume s_exp_labels is grammar output with 3 columns: s-exp, song-id, song-index\n",
    "s_exp_labels = pd.read_csv('test_files/s_exp_test.csv', index_col=0)\n",
    "s_exp_labels.head()"
   ]
  },
  {
   "cell_type": "code",
   "execution_count": 8,
   "metadata": {},
   "outputs": [
    {
     "data": {
      "text/plain": [
       "'-3 7 C|0.073|0.171 C|0.130|0.263 C|0.185|0.408 R|0.091|0.656 R|0.138|0.757 C|0.089|0.908 R|0.333|0.996 '"
      ]
     },
     "execution_count": 8,
     "metadata": {},
     "output_type": "execute_result"
    }
   ],
   "source": [
    "# don't really need a dictionary, can just index into the DataFrame like:\n",
    "s_exp_labels.loc[4, 'exp']"
   ]
  },
  {
   "cell_type": "code",
   "execution_count": 9,
   "metadata": {
    "collapsed": true
   },
   "outputs": [],
   "source": [
    "node_objects = [Node(i) for i in range(k_size)] #list of nodes for the Markov chain\n",
    "    \n",
    "for i, label in enumerate(kmeans.labels_): #iterating through all the data points\n",
    "    cluster_num = kmeans.labels_[i] #access the cluster num each data point corresponds to\n",
    "    node_objects[label].add_exp(i)"
   ]
  },
  {
   "cell_type": "code",
   "execution_count": 11,
   "metadata": {},
   "outputs": [],
   "source": [
    "#create cpt\n",
    "for outer_node in node_objects:\n",
    "    outer_node_count = 0\n",
    "    for inner_node in node_objects:\n",
    "        outer_node.cpt[inner_node.node_num] = 0.0\n",
    "        for s_exp_outer in outer_node.s_exp:\n",
    "            for s_exp_inner in inner_node.s_exp:\n",
    "                if s_exp_labels.loc[s_exp_outer, 'song_id'] == s_exp_labels.loc[s_exp_inner, 'song_id']:\n",
    "                    if s_exp_labels.loc[s_exp_inner, 'song_index'] - s_exp_labels.loc[s_exp_outer, 'song_index'] == 1:\n",
    "                        outer_node_count += 1\n",
    "                        outer_node.cpt[inner_node.node_num] += 1\n",
    "    #creates the probability of going to the next node, not s-exp\n",
    "    if outer_node_count:\n",
    "        outer_node.cpt = {k: (v / outer_node_count) for k, v in outer_node.cpt.items()}"
   ]
  },
  {
   "cell_type": "code",
   "execution_count": 12,
   "metadata": {
    "collapsed": true
   },
   "outputs": [],
   "source": [
    "def weighted_random_by_dct(dct):\n",
    "    rand_val = random.random() #random value between 0 and 1\n",
    "    total = 0\n",
    "    for k, v in dct.items():\n",
    "        total += v\n",
    "        if rand_val <= total: #if running total exceeds probability, that's what you want\n",
    "            return k"
   ]
  },
  {
   "cell_type": "code",
   "execution_count": 13,
   "metadata": {
    "collapsed": true
   },
   "outputs": [],
   "source": [
    "#takes in a number and returns list of s-exp ids generated by the cpt ordering given by probabilities\n",
    "#cpt jumps from s-exp to s-exp\n",
    "#nodes are collection of s-exp (s-exp is 1 measure with all those features)\n",
    "def sequence_s_expressions(n): #n is length of \n",
    "    s_exp_ids = [] #create empty list\n",
    "    start = int(random.uniform(0, len(node_objects))) #random start node\n",
    "    next_node = node_objects[start] #get that node\n",
    "    for i in range(n):\n",
    "        next_node_num = weighted_random_by_dct(next_node.cpt) #get the next node based on the current node's cpt\n",
    "        next_node = node_objects[next_node_num] #set the next node variable to that node\n",
    "        next_s_exp_id = random.choice(next_node.s_exp) #get a random s-expression in that node \n",
    "        s_exp_ids += [next_s_exp_id] #store id in the list\n",
    "    return s_exp_ids"
   ]
  },
  {
   "cell_type": "code",
   "execution_count": 14,
   "metadata": {
    "collapsed": true
   },
   "outputs": [],
   "source": [
    "#dummy placeholder functions\n",
    "possible_notes = lambda a, b : ['G']\n",
    "select_note = lambda a, b, c, d: 'C'"
   ]
  },
  {
   "cell_type": "code",
   "execution_count": 15,
   "metadata": {},
   "outputs": [
    {
     "data": {
      "text/html": [
       "<div>\n",
       "<style>\n",
       "    .dataframe thead tr:only-child th {\n",
       "        text-align: right;\n",
       "    }\n",
       "\n",
       "    .dataframe thead th {\n",
       "        text-align: left;\n",
       "    }\n",
       "\n",
       "    .dataframe tbody tr th {\n",
       "        vertical-align: top;\n",
       "    }\n",
       "</style>\n",
       "<table border=\"1\" class=\"dataframe\">\n",
       "  <thead>\n",
       "    <tr style=\"text-align: right;\">\n",
       "      <th></th>\n",
       "      <th>note_name</th>\n",
       "      <th>start_time</th>\n",
       "      <th>duration</th>\n",
       "    </tr>\n",
       "  </thead>\n",
       "  <tbody>\n",
       "    <tr>\n",
       "      <th>0</th>\n",
       "      <td>C</td>\n",
       "      <td>0.095</td>\n",
       "      <td>0.121</td>\n",
       "    </tr>\n",
       "    <tr>\n",
       "      <th>1</th>\n",
       "      <td>C</td>\n",
       "      <td>0.434</td>\n",
       "      <td>0.311</td>\n",
       "    </tr>\n",
       "    <tr>\n",
       "      <th>2</th>\n",
       "      <td>C</td>\n",
       "      <td>0.134</td>\n",
       "      <td>0.767</td>\n",
       "    </tr>\n",
       "    <tr>\n",
       "      <th>3</th>\n",
       "      <td>C</td>\n",
       "      <td>1.158</td>\n",
       "      <td>0.341</td>\n",
       "    </tr>\n",
       "    <tr>\n",
       "      <th>4</th>\n",
       "      <td>C</td>\n",
       "      <td>1.225</td>\n",
       "      <td>0.516</td>\n",
       "    </tr>\n",
       "    <tr>\n",
       "      <th>5</th>\n",
       "      <td>C</td>\n",
       "      <td>1.254</td>\n",
       "      <td>0.773</td>\n",
       "    </tr>\n",
       "  </tbody>\n",
       "</table>\n",
       "</div>"
      ],
      "text/plain": [
       "  note_name  start_time duration\n",
       "0         C       0.095    0.121\n",
       "1         C       0.434    0.311\n",
       "2         C       0.134    0.767\n",
       "3         C       1.158    0.341\n",
       "4         C       1.225    0.516\n",
       "5         C       1.254    0.773"
      ]
     },
     "execution_count": 15,
     "metadata": {},
     "output_type": "execute_result"
    }
   ],
   "source": [
    "#go from s-exp to producing actual notes by calling possible_notes which passes into select_note\n",
    "def produce_notes(num_of_measures, list_of_chords): #length of chords list = num of measures\n",
    "    notes_df = pd.DataFrame(columns=[\"note_name\", \"start_time\", \"duration\"])\n",
    "    s_exp_ids = sequence_s_expressions(num_of_measures)\n",
    "    curr_note = \"Bb4\" #figure out how to start the curr_note initially\n",
    "    row = 0\n",
    "    for i in range(num_of_measures): #i refers to measure number\n",
    "        s_exp = s_exp_labels.loc[s_exp_ids[i], 'exp'] #ith s-exp, which is a string\n",
    "        split_list = s_exp.split(' ')\n",
    "        min_slope, max_slope = split_list[0], split_list[1]\n",
    "        for term in split_list[2:-1]:\n",
    "            elements = term.split(\"|\")\n",
    "            category, start, duration = elements[0], elements[1], elements[2]\n",
    "            poss_notes_list = possible_notes(list_of_chords[i], category)\n",
    "            selected_note = select_note(poss_notes_list, curr_note, min_slope, max_slope)\n",
    "            new_row = {'note_name': selected_note, 'start_time': float(start) + i, 'duration': duration}\n",
    "            notes_df = notes_df.append(new_row, ignore_index = True)\n",
    "            row += 1\n",
    "            curr_note = selected_note\n",
    "    return notes_df\n",
    "\n",
    "notes_df = produce_notes(2, ['Bb', 'A'])\n",
    "notes_df"
   ]
  }
 ],
 "metadata": {
  "kernelspec": {
   "display_name": "Python 3",
   "language": "python",
   "name": "python3"
  },
  "language_info": {
   "codemirror_mode": {
    "name": "ipython",
    "version": 3
   },
   "file_extension": ".py",
   "mimetype": "text/x-python",
   "name": "python",
   "nbconvert_exporter": "python",
   "pygments_lexer": "ipython3",
   "version": "3.6.2"
  }
 },
 "nbformat": 4,
 "nbformat_minor": 2
}
